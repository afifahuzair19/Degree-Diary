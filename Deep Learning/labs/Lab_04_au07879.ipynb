{
  "cells": [
    {
      "cell_type": "markdown",
      "metadata": {
        "id": "A0Qye42z6w1V"
      },
      "source": [
        "# CS 316 : Introduction to Deep Learning\n",
        "## Lab 04 : Regression\n",
        "### Dr. Abdul Samad"
      ]
    },
    {
      "cell_type": "markdown",
      "metadata": {
        "id": "yhl9elIZ6yyg"
      },
      "source": [
        "# Instructions\n",
        "\n",
        "1. Make a copy of this notebook on google colab at start of the lab.\n",
        "\n",
        "2. Please rename your notebook as *Lab_04_aa01234.ipynb* before starting the lab. Replace 01234 with your student ID. Notebooks which do not follow appropriate naming convention will not be graded.\n",
        "\n",
        "3. You have to submit this lab during the lab timings. You are allowed to submit till 11:59 PM on the day of your lab with a 30% penalty. No submissions will be accepted afterwards.\n",
        "\n",
        "4. Use of AI is strictly prohibited. Anyone caught using Any AI tool during lab or while grading will be immediately reported to OCVS without any further discussion.\n",
        "\n",
        "5. At the end of the lab, download the notebook (ipynb extension file) and upload it on canvas as a file. Submitting link to notebook or any other file format will not be accepted.\n",
        "\n",
        "6. Each task has points assigned to it. Total Lab is of 100 points.\n",
        "\n",
        "7. Use of for loops is strictly prohibited.\n",
        "\n",
        "8. If there are any theoretical questions, there will be a separate cell given for it after the question. You have to edit it to write your answer there.\n",
        "\n",
        "10. Comments are also part of question and are there to help you understand and write the code. Read them carefully.\n",
        "\n",
        "11. Each question either contains testcases or images. Do not edit them. Run the testcases to check whether your output is correct. If the question doesn't have testcases then compare the output image with image given at the end.\n",
        "\n",
        "12. Go to settings> AI Assistance> Uncheck all options, save your notebook, refresh the tab and then start your lab.\n",
        "\n",
        "9. If you have any questions, please feel free to reach out to the course instructor, RA or TA."
      ]
    },
    {
      "cell_type": "markdown",
      "metadata": {
        "id": "GqAoTxi37G4h"
      },
      "source": [
        "## Task Overview\n"
      ]
    },
    {
      "cell_type": "markdown",
      "metadata": {
        "id": "CH1lujCImySb"
      },
      "source": [
        "So far we have studied about how input layers are connected to hidden neurons and then to output. But we haven't completely applied it on any dataset. We are going to do that in this lab today. Lab is pretty short but at the same time necessary for you as this will help you to understand the full cycle."
      ]
    },
    {
      "cell_type": "markdown",
      "metadata": {
        "id": "JFHfgmHp62B-"
      },
      "source": [
        "## Setup\n",
        "Let's import the libraries first."
      ]
    },
    {
      "cell_type": "code",
      "execution_count": 1,
      "metadata": {
        "id": "G1XlnVk16noU"
      },
      "outputs": [],
      "source": [
        "# Importing the essentials\n",
        "from IPython import display\n",
        "from matplotlib import pyplot as plt\n",
        "import numpy as np\n",
        "import seaborn as sns\n",
        "import os\n",
        "import random\n",
        "import urllib.request\n",
        "import pandas as pd\n",
        "from keras.datasets import fashion_mnist,cifar10,mnist\n",
        "np.random.seed(42)"
      ]
    },
    {
      "cell_type": "markdown",
      "metadata": {
        "id": "Yi5jJIrs7LqO"
      },
      "source": [
        "# Q1: [10 Points]"
      ]
    },
    {
      "cell_type": "markdown",
      "metadata": {
        "id": "ZYGcbfgA7PsO"
      },
      "source": [
        "A suitable dataset is required in order to obtain a linear regression model with reasonable accuracy. There are numerous datasets available, and many of them can be found online. You can also download the dataset manually, but scripting its retrieval is more convenient and may save time."
      ]
    },
    {
      "cell_type": "markdown",
      "metadata": {
        "id": "3SaGmbeC7fw4"
      },
      "source": [
        "Your task is to load the Dataset by completing the function `get__dataset` using the Pandas's \"read_parquet\" function. Parquet files are also like CSV files. Use help() function to understand the working of Pandas's read_parquet method. [This](https://www.nyc.gov/site/tlc/about/tlc-trip-record-data.page) is the link to all the Datasets. You will scroll down to the datasets posted year-wise. From them you will go to datasets of 2020 and copy dataset link of Yellow Taxi January 2020 and use that in read_parquet function."
      ]
    },
    {
      "cell_type": "code",
      "execution_count": 4,
      "metadata": {
        "id": "U9DsrT6K7gX8",
        "tags": []
      },
      "outputs": [],
      "source": [
        "# help(pd.read_parquet)\n",
        "# TODO: Complete get_dataset\n",
        "def get_dataset():\n",
        "  # BEGIN SOLUTION\n",
        "  link=\"https://d37ci6vzurychx.cloudfront.net/trip-data/yellow_tripdata_2020-01.parquet\"\n",
        "  dataset=pd.read_parquet(link)\n",
        "  return dataset\n",
        "  # END SOLUTION\n",
        "\n",
        "\n",
        "\n",
        "\n",
        "\n",
        "\n",
        "\n",
        "\n",
        ""
      ]
    },
    {
      "cell_type": "code",
      "execution_count": 5,
      "metadata": {
        "id": "OGJiVA2L1LBE",
        "colab": {
          "base_uri": "https://localhost:8080/"
        },
        "outputId": "a5f1d50b-1387-4e27-d1d1-efcbdbeeb732"
      },
      "outputs": [
        {
          "output_type": "stream",
          "name": "stdout",
          "text": [
            "Test case for get_dataset passed!\n"
          ]
        }
      ],
      "source": [
        "# DO NOT EDIT THIS CELL\n",
        "# TEST CASE for get_dataset\n",
        "def test_get_dataset():\n",
        "    # Assuming the function downloads and returns the dataset\n",
        "    dataset = get_dataset()\n",
        "\n",
        "    # Check if the returned object is a pandas DataFrame\n",
        "    assert isinstance(dataset, pd.DataFrame), \"The returned object is not a pandas DataFrame.\"\n",
        "\n",
        "    # Check if the DataFrame has the expected number of columns for the specified dataset\n",
        "    # The yellow_tripdata_2020-01.parquet file has 18 columns.\n",
        "    expected_columns = 19\n",
        "    assert dataset.shape[1] == expected_columns, f\"The number of columns is incorrect. Expected: {expected_columns}, Got: {dataset.shape[1]}\"\n",
        "\n",
        "    print(\"Test case for get_dataset passed!\")\n",
        "\n",
        "# Run the test case\n",
        "test_get_dataset()"
      ]
    },
    {
      "cell_type": "markdown",
      "metadata": {
        "id": "J65Y2ubP9Wu7"
      },
      "source": [
        "### Exploratory Data Analysis"
      ]
    },
    {
      "cell_type": "markdown",
      "metadata": {
        "id": "v0acpv3D9dEJ"
      },
      "source": [
        "After downloading the csv file, let's observe the data and try to understand what it means."
      ]
    },
    {
      "cell_type": "code",
      "execution_count": 6,
      "metadata": {
        "id": "qrWIRW7O9N0P",
        "colab": {
          "base_uri": "https://localhost:8080/",
          "height": 226
        },
        "outputId": "befa2424-0029-4da3-b6e0-d6d5daae3c37"
      },
      "outputs": [
        {
          "output_type": "execute_result",
          "data": {
            "text/plain": [
              "   VendorID tpep_pickup_datetime tpep_dropoff_datetime  passenger_count  \\\n",
              "0         1  2020-01-01 00:28:15   2020-01-01 00:33:03              1.0   \n",
              "1         1  2020-01-01 00:35:39   2020-01-01 00:43:04              1.0   \n",
              "2         1  2020-01-01 00:47:41   2020-01-01 00:53:52              1.0   \n",
              "3         1  2020-01-01 00:55:23   2020-01-01 01:00:14              1.0   \n",
              "4         2  2020-01-01 00:01:58   2020-01-01 00:04:16              1.0   \n",
              "\n",
              "   trip_distance  RatecodeID store_and_fwd_flag  PULocationID  DOLocationID  \\\n",
              "0            1.2         1.0                  N           238           239   \n",
              "1            1.2         1.0                  N           239           238   \n",
              "2            0.6         1.0                  N           238           238   \n",
              "3            0.8         1.0                  N           238           151   \n",
              "4            0.0         1.0                  N           193           193   \n",
              "\n",
              "   payment_type  fare_amount  extra  mta_tax  tip_amount  tolls_amount  \\\n",
              "0             1          6.0    3.0      0.5        1.47           0.0   \n",
              "1             1          7.0    3.0      0.5        1.50           0.0   \n",
              "2             1          6.0    3.0      0.5        1.00           0.0   \n",
              "3             1          5.5    0.5      0.5        1.36           0.0   \n",
              "4             2          3.5    0.5      0.5        0.00           0.0   \n",
              "\n",
              "   improvement_surcharge  total_amount  congestion_surcharge airport_fee  \n",
              "0                    0.3         11.27                   2.5        None  \n",
              "1                    0.3         12.30                   2.5        None  \n",
              "2                    0.3         10.80                   2.5        None  \n",
              "3                    0.3          8.16                   0.0        None  \n",
              "4                    0.3          4.80                   0.0        None  "
            ],
            "text/html": [
              "\n",
              "  <div id=\"df-e257c3e0-ca35-4418-b12c-8396526d4a3a\" class=\"colab-df-container\">\n",
              "    <div>\n",
              "<style scoped>\n",
              "    .dataframe tbody tr th:only-of-type {\n",
              "        vertical-align: middle;\n",
              "    }\n",
              "\n",
              "    .dataframe tbody tr th {\n",
              "        vertical-align: top;\n",
              "    }\n",
              "\n",
              "    .dataframe thead th {\n",
              "        text-align: right;\n",
              "    }\n",
              "</style>\n",
              "<table border=\"1\" class=\"dataframe\">\n",
              "  <thead>\n",
              "    <tr style=\"text-align: right;\">\n",
              "      <th></th>\n",
              "      <th>VendorID</th>\n",
              "      <th>tpep_pickup_datetime</th>\n",
              "      <th>tpep_dropoff_datetime</th>\n",
              "      <th>passenger_count</th>\n",
              "      <th>trip_distance</th>\n",
              "      <th>RatecodeID</th>\n",
              "      <th>store_and_fwd_flag</th>\n",
              "      <th>PULocationID</th>\n",
              "      <th>DOLocationID</th>\n",
              "      <th>payment_type</th>\n",
              "      <th>fare_amount</th>\n",
              "      <th>extra</th>\n",
              "      <th>mta_tax</th>\n",
              "      <th>tip_amount</th>\n",
              "      <th>tolls_amount</th>\n",
              "      <th>improvement_surcharge</th>\n",
              "      <th>total_amount</th>\n",
              "      <th>congestion_surcharge</th>\n",
              "      <th>airport_fee</th>\n",
              "    </tr>\n",
              "  </thead>\n",
              "  <tbody>\n",
              "    <tr>\n",
              "      <th>0</th>\n",
              "      <td>1</td>\n",
              "      <td>2020-01-01 00:28:15</td>\n",
              "      <td>2020-01-01 00:33:03</td>\n",
              "      <td>1.0</td>\n",
              "      <td>1.2</td>\n",
              "      <td>1.0</td>\n",
              "      <td>N</td>\n",
              "      <td>238</td>\n",
              "      <td>239</td>\n",
              "      <td>1</td>\n",
              "      <td>6.0</td>\n",
              "      <td>3.0</td>\n",
              "      <td>0.5</td>\n",
              "      <td>1.47</td>\n",
              "      <td>0.0</td>\n",
              "      <td>0.3</td>\n",
              "      <td>11.27</td>\n",
              "      <td>2.5</td>\n",
              "      <td>None</td>\n",
              "    </tr>\n",
              "    <tr>\n",
              "      <th>1</th>\n",
              "      <td>1</td>\n",
              "      <td>2020-01-01 00:35:39</td>\n",
              "      <td>2020-01-01 00:43:04</td>\n",
              "      <td>1.0</td>\n",
              "      <td>1.2</td>\n",
              "      <td>1.0</td>\n",
              "      <td>N</td>\n",
              "      <td>239</td>\n",
              "      <td>238</td>\n",
              "      <td>1</td>\n",
              "      <td>7.0</td>\n",
              "      <td>3.0</td>\n",
              "      <td>0.5</td>\n",
              "      <td>1.50</td>\n",
              "      <td>0.0</td>\n",
              "      <td>0.3</td>\n",
              "      <td>12.30</td>\n",
              "      <td>2.5</td>\n",
              "      <td>None</td>\n",
              "    </tr>\n",
              "    <tr>\n",
              "      <th>2</th>\n",
              "      <td>1</td>\n",
              "      <td>2020-01-01 00:47:41</td>\n",
              "      <td>2020-01-01 00:53:52</td>\n",
              "      <td>1.0</td>\n",
              "      <td>0.6</td>\n",
              "      <td>1.0</td>\n",
              "      <td>N</td>\n",
              "      <td>238</td>\n",
              "      <td>238</td>\n",
              "      <td>1</td>\n",
              "      <td>6.0</td>\n",
              "      <td>3.0</td>\n",
              "      <td>0.5</td>\n",
              "      <td>1.00</td>\n",
              "      <td>0.0</td>\n",
              "      <td>0.3</td>\n",
              "      <td>10.80</td>\n",
              "      <td>2.5</td>\n",
              "      <td>None</td>\n",
              "    </tr>\n",
              "    <tr>\n",
              "      <th>3</th>\n",
              "      <td>1</td>\n",
              "      <td>2020-01-01 00:55:23</td>\n",
              "      <td>2020-01-01 01:00:14</td>\n",
              "      <td>1.0</td>\n",
              "      <td>0.8</td>\n",
              "      <td>1.0</td>\n",
              "      <td>N</td>\n",
              "      <td>238</td>\n",
              "      <td>151</td>\n",
              "      <td>1</td>\n",
              "      <td>5.5</td>\n",
              "      <td>0.5</td>\n",
              "      <td>0.5</td>\n",
              "      <td>1.36</td>\n",
              "      <td>0.0</td>\n",
              "      <td>0.3</td>\n",
              "      <td>8.16</td>\n",
              "      <td>0.0</td>\n",
              "      <td>None</td>\n",
              "    </tr>\n",
              "    <tr>\n",
              "      <th>4</th>\n",
              "      <td>2</td>\n",
              "      <td>2020-01-01 00:01:58</td>\n",
              "      <td>2020-01-01 00:04:16</td>\n",
              "      <td>1.0</td>\n",
              "      <td>0.0</td>\n",
              "      <td>1.0</td>\n",
              "      <td>N</td>\n",
              "      <td>193</td>\n",
              "      <td>193</td>\n",
              "      <td>2</td>\n",
              "      <td>3.5</td>\n",
              "      <td>0.5</td>\n",
              "      <td>0.5</td>\n",
              "      <td>0.00</td>\n",
              "      <td>0.0</td>\n",
              "      <td>0.3</td>\n",
              "      <td>4.80</td>\n",
              "      <td>0.0</td>\n",
              "      <td>None</td>\n",
              "    </tr>\n",
              "  </tbody>\n",
              "</table>\n",
              "</div>\n",
              "    <div class=\"colab-df-buttons\">\n",
              "\n",
              "  <div class=\"colab-df-container\">\n",
              "    <button class=\"colab-df-convert\" onclick=\"convertToInteractive('df-e257c3e0-ca35-4418-b12c-8396526d4a3a')\"\n",
              "            title=\"Convert this dataframe to an interactive table.\"\n",
              "            style=\"display:none;\">\n",
              "\n",
              "  <svg xmlns=\"http://www.w3.org/2000/svg\" height=\"24px\" viewBox=\"0 -960 960 960\">\n",
              "    <path d=\"M120-120v-720h720v720H120Zm60-500h600v-160H180v160Zm220 220h160v-160H400v160Zm0 220h160v-160H400v160ZM180-400h160v-160H180v160Zm440 0h160v-160H620v160ZM180-180h160v-160H180v160Zm440 0h160v-160H620v160Z\"/>\n",
              "  </svg>\n",
              "    </button>\n",
              "\n",
              "  <style>\n",
              "    .colab-df-container {\n",
              "      display:flex;\n",
              "      gap: 12px;\n",
              "    }\n",
              "\n",
              "    .colab-df-convert {\n",
              "      background-color: #E8F0FE;\n",
              "      border: none;\n",
              "      border-radius: 50%;\n",
              "      cursor: pointer;\n",
              "      display: none;\n",
              "      fill: #1967D2;\n",
              "      height: 32px;\n",
              "      padding: 0 0 0 0;\n",
              "      width: 32px;\n",
              "    }\n",
              "\n",
              "    .colab-df-convert:hover {\n",
              "      background-color: #E2EBFA;\n",
              "      box-shadow: 0px 1px 2px rgba(60, 64, 67, 0.3), 0px 1px 3px 1px rgba(60, 64, 67, 0.15);\n",
              "      fill: #174EA6;\n",
              "    }\n",
              "\n",
              "    .colab-df-buttons div {\n",
              "      margin-bottom: 4px;\n",
              "    }\n",
              "\n",
              "    [theme=dark] .colab-df-convert {\n",
              "      background-color: #3B4455;\n",
              "      fill: #D2E3FC;\n",
              "    }\n",
              "\n",
              "    [theme=dark] .colab-df-convert:hover {\n",
              "      background-color: #434B5C;\n",
              "      box-shadow: 0px 1px 3px 1px rgba(0, 0, 0, 0.15);\n",
              "      filter: drop-shadow(0px 1px 2px rgba(0, 0, 0, 0.3));\n",
              "      fill: #FFFFFF;\n",
              "    }\n",
              "  </style>\n",
              "\n",
              "    <script>\n",
              "      const buttonEl =\n",
              "        document.querySelector('#df-e257c3e0-ca35-4418-b12c-8396526d4a3a button.colab-df-convert');\n",
              "      buttonEl.style.display =\n",
              "        google.colab.kernel.accessAllowed ? 'block' : 'none';\n",
              "\n",
              "      async function convertToInteractive(key) {\n",
              "        const element = document.querySelector('#df-e257c3e0-ca35-4418-b12c-8396526d4a3a');\n",
              "        const dataTable =\n",
              "          await google.colab.kernel.invokeFunction('convertToInteractive',\n",
              "                                                    [key], {});\n",
              "        if (!dataTable) return;\n",
              "\n",
              "        const docLinkHtml = 'Like what you see? Visit the ' +\n",
              "          '<a target=\"_blank\" href=https://colab.research.google.com/notebooks/data_table.ipynb>data table notebook</a>'\n",
              "          + ' to learn more about interactive tables.';\n",
              "        element.innerHTML = '';\n",
              "        dataTable['output_type'] = 'display_data';\n",
              "        await google.colab.output.renderOutput(dataTable, element);\n",
              "        const docLink = document.createElement('div');\n",
              "        docLink.innerHTML = docLinkHtml;\n",
              "        element.appendChild(docLink);\n",
              "      }\n",
              "    </script>\n",
              "  </div>\n",
              "\n",
              "\n",
              "    <div id=\"df-082fe3f9-e82c-438c-8788-f10509bae9a6\">\n",
              "      <button class=\"colab-df-quickchart\" onclick=\"quickchart('df-082fe3f9-e82c-438c-8788-f10509bae9a6')\"\n",
              "                title=\"Suggest charts\"\n",
              "                style=\"display:none;\">\n",
              "\n",
              "<svg xmlns=\"http://www.w3.org/2000/svg\" height=\"24px\"viewBox=\"0 0 24 24\"\n",
              "     width=\"24px\">\n",
              "    <g>\n",
              "        <path d=\"M19 3H5c-1.1 0-2 .9-2 2v14c0 1.1.9 2 2 2h14c1.1 0 2-.9 2-2V5c0-1.1-.9-2-2-2zM9 17H7v-7h2v7zm4 0h-2V7h2v10zm4 0h-2v-4h2v4z\"/>\n",
              "    </g>\n",
              "</svg>\n",
              "      </button>\n",
              "\n",
              "<style>\n",
              "  .colab-df-quickchart {\n",
              "      --bg-color: #E8F0FE;\n",
              "      --fill-color: #1967D2;\n",
              "      --hover-bg-color: #E2EBFA;\n",
              "      --hover-fill-color: #174EA6;\n",
              "      --disabled-fill-color: #AAA;\n",
              "      --disabled-bg-color: #DDD;\n",
              "  }\n",
              "\n",
              "  [theme=dark] .colab-df-quickchart {\n",
              "      --bg-color: #3B4455;\n",
              "      --fill-color: #D2E3FC;\n",
              "      --hover-bg-color: #434B5C;\n",
              "      --hover-fill-color: #FFFFFF;\n",
              "      --disabled-bg-color: #3B4455;\n",
              "      --disabled-fill-color: #666;\n",
              "  }\n",
              "\n",
              "  .colab-df-quickchart {\n",
              "    background-color: var(--bg-color);\n",
              "    border: none;\n",
              "    border-radius: 50%;\n",
              "    cursor: pointer;\n",
              "    display: none;\n",
              "    fill: var(--fill-color);\n",
              "    height: 32px;\n",
              "    padding: 0;\n",
              "    width: 32px;\n",
              "  }\n",
              "\n",
              "  .colab-df-quickchart:hover {\n",
              "    background-color: var(--hover-bg-color);\n",
              "    box-shadow: 0 1px 2px rgba(60, 64, 67, 0.3), 0 1px 3px 1px rgba(60, 64, 67, 0.15);\n",
              "    fill: var(--button-hover-fill-color);\n",
              "  }\n",
              "\n",
              "  .colab-df-quickchart-complete:disabled,\n",
              "  .colab-df-quickchart-complete:disabled:hover {\n",
              "    background-color: var(--disabled-bg-color);\n",
              "    fill: var(--disabled-fill-color);\n",
              "    box-shadow: none;\n",
              "  }\n",
              "\n",
              "  .colab-df-spinner {\n",
              "    border: 2px solid var(--fill-color);\n",
              "    border-color: transparent;\n",
              "    border-bottom-color: var(--fill-color);\n",
              "    animation:\n",
              "      spin 1s steps(1) infinite;\n",
              "  }\n",
              "\n",
              "  @keyframes spin {\n",
              "    0% {\n",
              "      border-color: transparent;\n",
              "      border-bottom-color: var(--fill-color);\n",
              "      border-left-color: var(--fill-color);\n",
              "    }\n",
              "    20% {\n",
              "      border-color: transparent;\n",
              "      border-left-color: var(--fill-color);\n",
              "      border-top-color: var(--fill-color);\n",
              "    }\n",
              "    30% {\n",
              "      border-color: transparent;\n",
              "      border-left-color: var(--fill-color);\n",
              "      border-top-color: var(--fill-color);\n",
              "      border-right-color: var(--fill-color);\n",
              "    }\n",
              "    40% {\n",
              "      border-color: transparent;\n",
              "      border-right-color: var(--fill-color);\n",
              "      border-top-color: var(--fill-color);\n",
              "    }\n",
              "    60% {\n",
              "      border-color: transparent;\n",
              "      border-right-color: var(--fill-color);\n",
              "    }\n",
              "    80% {\n",
              "      border-color: transparent;\n",
              "      border-right-color: var(--fill-color);\n",
              "      border-bottom-color: var(--fill-color);\n",
              "    }\n",
              "    90% {\n",
              "      border-color: transparent;\n",
              "      border-bottom-color: var(--fill-color);\n",
              "    }\n",
              "  }\n",
              "</style>\n",
              "\n",
              "      <script>\n",
              "        async function quickchart(key) {\n",
              "          const quickchartButtonEl =\n",
              "            document.querySelector('#' + key + ' button');\n",
              "          quickchartButtonEl.disabled = true;  // To prevent multiple clicks.\n",
              "          quickchartButtonEl.classList.add('colab-df-spinner');\n",
              "          try {\n",
              "            const charts = await google.colab.kernel.invokeFunction(\n",
              "                'suggestCharts', [key], {});\n",
              "          } catch (error) {\n",
              "            console.error('Error during call to suggestCharts:', error);\n",
              "          }\n",
              "          quickchartButtonEl.classList.remove('colab-df-spinner');\n",
              "          quickchartButtonEl.classList.add('colab-df-quickchart-complete');\n",
              "        }\n",
              "        (() => {\n",
              "          let quickchartButtonEl =\n",
              "            document.querySelector('#df-082fe3f9-e82c-438c-8788-f10509bae9a6 button');\n",
              "          quickchartButtonEl.style.display =\n",
              "            google.colab.kernel.accessAllowed ? 'block' : 'none';\n",
              "        })();\n",
              "      </script>\n",
              "    </div>\n",
              "\n",
              "    </div>\n",
              "  </div>\n"
            ],
            "application/vnd.google.colaboratory.intrinsic+json": {
              "type": "dataframe",
              "variable_name": "dataset"
            }
          },
          "metadata": {},
          "execution_count": 6
        }
      ],
      "source": [
        "# DO NOT EDIT\n",
        "# Load the dataset\n",
        "dataset = get_dataset()\n",
        "# View the top rows of the dataset\n",
        "dataset.head()"
      ]
    },
    {
      "cell_type": "markdown",
      "source": [
        "dataset.info(), dataset.describe() are 2 common functions to look at and understand the dataset."
      ],
      "metadata": {
        "id": "JHR5-H7Uz9D7"
      }
    },
    {
      "cell_type": "code",
      "source": [
        "dataset.info()\n",
        "dataset.describe()"
      ],
      "metadata": {
        "id": "OqrO4SV00Nyw",
        "colab": {
          "base_uri": "https://localhost:8080/",
          "height": 824
        },
        "outputId": "9cb2c6f1-56d3-473f-d011-f1f6f42c9c8c"
      },
      "execution_count": 7,
      "outputs": [
        {
          "output_type": "stream",
          "name": "stdout",
          "text": [
            "<class 'pandas.core.frame.DataFrame'>\n",
            "RangeIndex: 6405008 entries, 0 to 6405007\n",
            "Data columns (total 19 columns):\n",
            " #   Column                 Dtype         \n",
            "---  ------                 -----         \n",
            " 0   VendorID               int64         \n",
            " 1   tpep_pickup_datetime   datetime64[us]\n",
            " 2   tpep_dropoff_datetime  datetime64[us]\n",
            " 3   passenger_count        float64       \n",
            " 4   trip_distance          float64       \n",
            " 5   RatecodeID             float64       \n",
            " 6   store_and_fwd_flag     object        \n",
            " 7   PULocationID           int64         \n",
            " 8   DOLocationID           int64         \n",
            " 9   payment_type           int64         \n",
            " 10  fare_amount            float64       \n",
            " 11  extra                  float64       \n",
            " 12  mta_tax                float64       \n",
            " 13  tip_amount             float64       \n",
            " 14  tolls_amount           float64       \n",
            " 15  improvement_surcharge  float64       \n",
            " 16  total_amount           float64       \n",
            " 17  congestion_surcharge   float64       \n",
            " 18  airport_fee            object        \n",
            "dtypes: datetime64[us](2), float64(11), int64(4), object(2)\n",
            "memory usage: 928.5+ MB\n"
          ]
        },
        {
          "output_type": "execute_result",
          "data": {
            "text/plain": [
              "           VendorID        tpep_pickup_datetime       tpep_dropoff_datetime  \\\n",
              "count  6.405008e+06                     6405008                     6405008   \n",
              "mean   1.673002e+00  2020-01-17 03:05:16.413238  2020-01-17 03:21:13.417920   \n",
              "min    1.000000e+00         2003-01-01 00:07:17         2003-01-01 14:16:59   \n",
              "25%    1.000000e+00         2020-01-09 17:10:53  2020-01-09 17:27:34.750000   \n",
              "50%    2.000000e+00         2020-01-16 23:16:29         2020-01-16 23:32:24   \n",
              "75%    2.000000e+00         2020-01-24 18:24:30         2020-01-24 18:39:51   \n",
              "max    5.000000e+00         2021-01-02 01:12:10         2021-01-02 01:25:01   \n",
              "std    4.691265e-01                         NaN                         NaN   \n",
              "\n",
              "       passenger_count  trip_distance    RatecodeID  PULocationID  \\\n",
              "count     6.339567e+06   6.405008e+06  6.339567e+06  6.405008e+06   \n",
              "mean      1.515333e+00   2.929644e+00  1.059908e+00  1.647323e+02   \n",
              "min       0.000000e+00  -3.062000e+01  1.000000e+00  1.000000e+00   \n",
              "25%       1.000000e+00   9.600000e-01  1.000000e+00  1.320000e+02   \n",
              "50%       1.000000e+00   1.600000e+00  1.000000e+00  1.620000e+02   \n",
              "75%       2.000000e+00   2.930000e+00  1.000000e+00  2.340000e+02   \n",
              "max       9.000000e+00   2.102401e+05  9.900000e+01  2.650000e+02   \n",
              "std       1.151594e+00   8.315911e+01  8.118432e-01  6.554374e+01   \n",
              "\n",
              "       DOLocationID  payment_type   fare_amount         extra       mta_tax  \\\n",
              "count  6.405008e+06  6.405008e+06  6.405008e+06  6.405008e+06  6.405008e+06   \n",
              "mean   1.626627e+02  1.257319e+00  1.269411e+01  1.115456e+00  4.923182e-01   \n",
              "min    1.000000e+00  0.000000e+00 -1.238000e+03 -2.700000e+01 -5.000000e-01   \n",
              "25%    1.130000e+02  1.000000e+00  6.500000e+00  0.000000e+00  5.000000e-01   \n",
              "50%    1.620000e+02  1.000000e+00  9.000000e+00  5.000000e-01  5.000000e-01   \n",
              "75%    2.340000e+02  2.000000e+00  1.400000e+01  2.500000e+00  5.000000e-01   \n",
              "max    2.650000e+02  5.000000e+00  4.265000e+03  1.130100e+02  3.080000e+01   \n",
              "std    6.991261e+01  4.885669e-01  1.212730e+01  1.260054e+00  7.374184e-02   \n",
              "\n",
              "         tip_amount  tolls_amount  improvement_surcharge  total_amount  \\\n",
              "count  6.405008e+06  6.405008e+06           6.405008e+06  6.405008e+06   \n",
              "mean   2.189342e+00  3.488395e-01           2.979870e-01  1.866315e+01   \n",
              "min   -9.100000e+01 -3.574000e+01          -3.000000e-01 -1.242300e+03   \n",
              "25%    0.000000e+00  0.000000e+00           3.000000e-01  1.116000e+01   \n",
              "50%    1.950000e+00  0.000000e+00           3.000000e-01  1.430000e+01   \n",
              "75%    2.860000e+00  0.000000e+00           3.000000e-01  1.980000e+01   \n",
              "max    1.100000e+03  9.105000e+02           3.000000e-01  4.268300e+03   \n",
              "std    2.760028e+00  1.766978e+00           3.385937e-02  1.475736e+01   \n",
              "\n",
              "       congestion_surcharge  \n",
              "count          6.339567e+06  \n",
              "mean           2.299052e+00  \n",
              "min           -2.500000e+00  \n",
              "25%            2.500000e+00  \n",
              "50%            2.500000e+00  \n",
              "75%            2.500000e+00  \n",
              "max            2.750000e+00  \n",
              "std            7.017109e-01  "
            ],
            "text/html": [
              "\n",
              "  <div id=\"df-d4419497-a202-43f4-83a3-a6c3b81d3abd\" class=\"colab-df-container\">\n",
              "    <div>\n",
              "<style scoped>\n",
              "    .dataframe tbody tr th:only-of-type {\n",
              "        vertical-align: middle;\n",
              "    }\n",
              "\n",
              "    .dataframe tbody tr th {\n",
              "        vertical-align: top;\n",
              "    }\n",
              "\n",
              "    .dataframe thead th {\n",
              "        text-align: right;\n",
              "    }\n",
              "</style>\n",
              "<table border=\"1\" class=\"dataframe\">\n",
              "  <thead>\n",
              "    <tr style=\"text-align: right;\">\n",
              "      <th></th>\n",
              "      <th>VendorID</th>\n",
              "      <th>tpep_pickup_datetime</th>\n",
              "      <th>tpep_dropoff_datetime</th>\n",
              "      <th>passenger_count</th>\n",
              "      <th>trip_distance</th>\n",
              "      <th>RatecodeID</th>\n",
              "      <th>PULocationID</th>\n",
              "      <th>DOLocationID</th>\n",
              "      <th>payment_type</th>\n",
              "      <th>fare_amount</th>\n",
              "      <th>extra</th>\n",
              "      <th>mta_tax</th>\n",
              "      <th>tip_amount</th>\n",
              "      <th>tolls_amount</th>\n",
              "      <th>improvement_surcharge</th>\n",
              "      <th>total_amount</th>\n",
              "      <th>congestion_surcharge</th>\n",
              "    </tr>\n",
              "  </thead>\n",
              "  <tbody>\n",
              "    <tr>\n",
              "      <th>count</th>\n",
              "      <td>6.405008e+06</td>\n",
              "      <td>6405008</td>\n",
              "      <td>6405008</td>\n",
              "      <td>6.339567e+06</td>\n",
              "      <td>6.405008e+06</td>\n",
              "      <td>6.339567e+06</td>\n",
              "      <td>6.405008e+06</td>\n",
              "      <td>6.405008e+06</td>\n",
              "      <td>6.405008e+06</td>\n",
              "      <td>6.405008e+06</td>\n",
              "      <td>6.405008e+06</td>\n",
              "      <td>6.405008e+06</td>\n",
              "      <td>6.405008e+06</td>\n",
              "      <td>6.405008e+06</td>\n",
              "      <td>6.405008e+06</td>\n",
              "      <td>6.405008e+06</td>\n",
              "      <td>6.339567e+06</td>\n",
              "    </tr>\n",
              "    <tr>\n",
              "      <th>mean</th>\n",
              "      <td>1.673002e+00</td>\n",
              "      <td>2020-01-17 03:05:16.413238</td>\n",
              "      <td>2020-01-17 03:21:13.417920</td>\n",
              "      <td>1.515333e+00</td>\n",
              "      <td>2.929644e+00</td>\n",
              "      <td>1.059908e+00</td>\n",
              "      <td>1.647323e+02</td>\n",
              "      <td>1.626627e+02</td>\n",
              "      <td>1.257319e+00</td>\n",
              "      <td>1.269411e+01</td>\n",
              "      <td>1.115456e+00</td>\n",
              "      <td>4.923182e-01</td>\n",
              "      <td>2.189342e+00</td>\n",
              "      <td>3.488395e-01</td>\n",
              "      <td>2.979870e-01</td>\n",
              "      <td>1.866315e+01</td>\n",
              "      <td>2.299052e+00</td>\n",
              "    </tr>\n",
              "    <tr>\n",
              "      <th>min</th>\n",
              "      <td>1.000000e+00</td>\n",
              "      <td>2003-01-01 00:07:17</td>\n",
              "      <td>2003-01-01 14:16:59</td>\n",
              "      <td>0.000000e+00</td>\n",
              "      <td>-3.062000e+01</td>\n",
              "      <td>1.000000e+00</td>\n",
              "      <td>1.000000e+00</td>\n",
              "      <td>1.000000e+00</td>\n",
              "      <td>0.000000e+00</td>\n",
              "      <td>-1.238000e+03</td>\n",
              "      <td>-2.700000e+01</td>\n",
              "      <td>-5.000000e-01</td>\n",
              "      <td>-9.100000e+01</td>\n",
              "      <td>-3.574000e+01</td>\n",
              "      <td>-3.000000e-01</td>\n",
              "      <td>-1.242300e+03</td>\n",
              "      <td>-2.500000e+00</td>\n",
              "    </tr>\n",
              "    <tr>\n",
              "      <th>25%</th>\n",
              "      <td>1.000000e+00</td>\n",
              "      <td>2020-01-09 17:10:53</td>\n",
              "      <td>2020-01-09 17:27:34.750000</td>\n",
              "      <td>1.000000e+00</td>\n",
              "      <td>9.600000e-01</td>\n",
              "      <td>1.000000e+00</td>\n",
              "      <td>1.320000e+02</td>\n",
              "      <td>1.130000e+02</td>\n",
              "      <td>1.000000e+00</td>\n",
              "      <td>6.500000e+00</td>\n",
              "      <td>0.000000e+00</td>\n",
              "      <td>5.000000e-01</td>\n",
              "      <td>0.000000e+00</td>\n",
              "      <td>0.000000e+00</td>\n",
              "      <td>3.000000e-01</td>\n",
              "      <td>1.116000e+01</td>\n",
              "      <td>2.500000e+00</td>\n",
              "    </tr>\n",
              "    <tr>\n",
              "      <th>50%</th>\n",
              "      <td>2.000000e+00</td>\n",
              "      <td>2020-01-16 23:16:29</td>\n",
              "      <td>2020-01-16 23:32:24</td>\n",
              "      <td>1.000000e+00</td>\n",
              "      <td>1.600000e+00</td>\n",
              "      <td>1.000000e+00</td>\n",
              "      <td>1.620000e+02</td>\n",
              "      <td>1.620000e+02</td>\n",
              "      <td>1.000000e+00</td>\n",
              "      <td>9.000000e+00</td>\n",
              "      <td>5.000000e-01</td>\n",
              "      <td>5.000000e-01</td>\n",
              "      <td>1.950000e+00</td>\n",
              "      <td>0.000000e+00</td>\n",
              "      <td>3.000000e-01</td>\n",
              "      <td>1.430000e+01</td>\n",
              "      <td>2.500000e+00</td>\n",
              "    </tr>\n",
              "    <tr>\n",
              "      <th>75%</th>\n",
              "      <td>2.000000e+00</td>\n",
              "      <td>2020-01-24 18:24:30</td>\n",
              "      <td>2020-01-24 18:39:51</td>\n",
              "      <td>2.000000e+00</td>\n",
              "      <td>2.930000e+00</td>\n",
              "      <td>1.000000e+00</td>\n",
              "      <td>2.340000e+02</td>\n",
              "      <td>2.340000e+02</td>\n",
              "      <td>2.000000e+00</td>\n",
              "      <td>1.400000e+01</td>\n",
              "      <td>2.500000e+00</td>\n",
              "      <td>5.000000e-01</td>\n",
              "      <td>2.860000e+00</td>\n",
              "      <td>0.000000e+00</td>\n",
              "      <td>3.000000e-01</td>\n",
              "      <td>1.980000e+01</td>\n",
              "      <td>2.500000e+00</td>\n",
              "    </tr>\n",
              "    <tr>\n",
              "      <th>max</th>\n",
              "      <td>5.000000e+00</td>\n",
              "      <td>2021-01-02 01:12:10</td>\n",
              "      <td>2021-01-02 01:25:01</td>\n",
              "      <td>9.000000e+00</td>\n",
              "      <td>2.102401e+05</td>\n",
              "      <td>9.900000e+01</td>\n",
              "      <td>2.650000e+02</td>\n",
              "      <td>2.650000e+02</td>\n",
              "      <td>5.000000e+00</td>\n",
              "      <td>4.265000e+03</td>\n",
              "      <td>1.130100e+02</td>\n",
              "      <td>3.080000e+01</td>\n",
              "      <td>1.100000e+03</td>\n",
              "      <td>9.105000e+02</td>\n",
              "      <td>3.000000e-01</td>\n",
              "      <td>4.268300e+03</td>\n",
              "      <td>2.750000e+00</td>\n",
              "    </tr>\n",
              "    <tr>\n",
              "      <th>std</th>\n",
              "      <td>4.691265e-01</td>\n",
              "      <td>NaN</td>\n",
              "      <td>NaN</td>\n",
              "      <td>1.151594e+00</td>\n",
              "      <td>8.315911e+01</td>\n",
              "      <td>8.118432e-01</td>\n",
              "      <td>6.554374e+01</td>\n",
              "      <td>6.991261e+01</td>\n",
              "      <td>4.885669e-01</td>\n",
              "      <td>1.212730e+01</td>\n",
              "      <td>1.260054e+00</td>\n",
              "      <td>7.374184e-02</td>\n",
              "      <td>2.760028e+00</td>\n",
              "      <td>1.766978e+00</td>\n",
              "      <td>3.385937e-02</td>\n",
              "      <td>1.475736e+01</td>\n",
              "      <td>7.017109e-01</td>\n",
              "    </tr>\n",
              "  </tbody>\n",
              "</table>\n",
              "</div>\n",
              "    <div class=\"colab-df-buttons\">\n",
              "\n",
              "  <div class=\"colab-df-container\">\n",
              "    <button class=\"colab-df-convert\" onclick=\"convertToInteractive('df-d4419497-a202-43f4-83a3-a6c3b81d3abd')\"\n",
              "            title=\"Convert this dataframe to an interactive table.\"\n",
              "            style=\"display:none;\">\n",
              "\n",
              "  <svg xmlns=\"http://www.w3.org/2000/svg\" height=\"24px\" viewBox=\"0 -960 960 960\">\n",
              "    <path d=\"M120-120v-720h720v720H120Zm60-500h600v-160H180v160Zm220 220h160v-160H400v160Zm0 220h160v-160H400v160ZM180-400h160v-160H180v160Zm440 0h160v-160H620v160ZM180-180h160v-160H180v160Zm440 0h160v-160H620v160Z\"/>\n",
              "  </svg>\n",
              "    </button>\n",
              "\n",
              "  <style>\n",
              "    .colab-df-container {\n",
              "      display:flex;\n",
              "      gap: 12px;\n",
              "    }\n",
              "\n",
              "    .colab-df-convert {\n",
              "      background-color: #E8F0FE;\n",
              "      border: none;\n",
              "      border-radius: 50%;\n",
              "      cursor: pointer;\n",
              "      display: none;\n",
              "      fill: #1967D2;\n",
              "      height: 32px;\n",
              "      padding: 0 0 0 0;\n",
              "      width: 32px;\n",
              "    }\n",
              "\n",
              "    .colab-df-convert:hover {\n",
              "      background-color: #E2EBFA;\n",
              "      box-shadow: 0px 1px 2px rgba(60, 64, 67, 0.3), 0px 1px 3px 1px rgba(60, 64, 67, 0.15);\n",
              "      fill: #174EA6;\n",
              "    }\n",
              "\n",
              "    .colab-df-buttons div {\n",
              "      margin-bottom: 4px;\n",
              "    }\n",
              "\n",
              "    [theme=dark] .colab-df-convert {\n",
              "      background-color: #3B4455;\n",
              "      fill: #D2E3FC;\n",
              "    }\n",
              "\n",
              "    [theme=dark] .colab-df-convert:hover {\n",
              "      background-color: #434B5C;\n",
              "      box-shadow: 0px 1px 3px 1px rgba(0, 0, 0, 0.15);\n",
              "      filter: drop-shadow(0px 1px 2px rgba(0, 0, 0, 0.3));\n",
              "      fill: #FFFFFF;\n",
              "    }\n",
              "  </style>\n",
              "\n",
              "    <script>\n",
              "      const buttonEl =\n",
              "        document.querySelector('#df-d4419497-a202-43f4-83a3-a6c3b81d3abd button.colab-df-convert');\n",
              "      buttonEl.style.display =\n",
              "        google.colab.kernel.accessAllowed ? 'block' : 'none';\n",
              "\n",
              "      async function convertToInteractive(key) {\n",
              "        const element = document.querySelector('#df-d4419497-a202-43f4-83a3-a6c3b81d3abd');\n",
              "        const dataTable =\n",
              "          await google.colab.kernel.invokeFunction('convertToInteractive',\n",
              "                                                    [key], {});\n",
              "        if (!dataTable) return;\n",
              "\n",
              "        const docLinkHtml = 'Like what you see? Visit the ' +\n",
              "          '<a target=\"_blank\" href=https://colab.research.google.com/notebooks/data_table.ipynb>data table notebook</a>'\n",
              "          + ' to learn more about interactive tables.';\n",
              "        element.innerHTML = '';\n",
              "        dataTable['output_type'] = 'display_data';\n",
              "        await google.colab.output.renderOutput(dataTable, element);\n",
              "        const docLink = document.createElement('div');\n",
              "        docLink.innerHTML = docLinkHtml;\n",
              "        element.appendChild(docLink);\n",
              "      }\n",
              "    </script>\n",
              "  </div>\n",
              "\n",
              "\n",
              "    <div id=\"df-d9c6b8c5-9c17-490c-b933-202f2e6420d6\">\n",
              "      <button class=\"colab-df-quickchart\" onclick=\"quickchart('df-d9c6b8c5-9c17-490c-b933-202f2e6420d6')\"\n",
              "                title=\"Suggest charts\"\n",
              "                style=\"display:none;\">\n",
              "\n",
              "<svg xmlns=\"http://www.w3.org/2000/svg\" height=\"24px\"viewBox=\"0 0 24 24\"\n",
              "     width=\"24px\">\n",
              "    <g>\n",
              "        <path d=\"M19 3H5c-1.1 0-2 .9-2 2v14c0 1.1.9 2 2 2h14c1.1 0 2-.9 2-2V5c0-1.1-.9-2-2-2zM9 17H7v-7h2v7zm4 0h-2V7h2v10zm4 0h-2v-4h2v4z\"/>\n",
              "    </g>\n",
              "</svg>\n",
              "      </button>\n",
              "\n",
              "<style>\n",
              "  .colab-df-quickchart {\n",
              "      --bg-color: #E8F0FE;\n",
              "      --fill-color: #1967D2;\n",
              "      --hover-bg-color: #E2EBFA;\n",
              "      --hover-fill-color: #174EA6;\n",
              "      --disabled-fill-color: #AAA;\n",
              "      --disabled-bg-color: #DDD;\n",
              "  }\n",
              "\n",
              "  [theme=dark] .colab-df-quickchart {\n",
              "      --bg-color: #3B4455;\n",
              "      --fill-color: #D2E3FC;\n",
              "      --hover-bg-color: #434B5C;\n",
              "      --hover-fill-color: #FFFFFF;\n",
              "      --disabled-bg-color: #3B4455;\n",
              "      --disabled-fill-color: #666;\n",
              "  }\n",
              "\n",
              "  .colab-df-quickchart {\n",
              "    background-color: var(--bg-color);\n",
              "    border: none;\n",
              "    border-radius: 50%;\n",
              "    cursor: pointer;\n",
              "    display: none;\n",
              "    fill: var(--fill-color);\n",
              "    height: 32px;\n",
              "    padding: 0;\n",
              "    width: 32px;\n",
              "  }\n",
              "\n",
              "  .colab-df-quickchart:hover {\n",
              "    background-color: var(--hover-bg-color);\n",
              "    box-shadow: 0 1px 2px rgba(60, 64, 67, 0.3), 0 1px 3px 1px rgba(60, 64, 67, 0.15);\n",
              "    fill: var(--button-hover-fill-color);\n",
              "  }\n",
              "\n",
              "  .colab-df-quickchart-complete:disabled,\n",
              "  .colab-df-quickchart-complete:disabled:hover {\n",
              "    background-color: var(--disabled-bg-color);\n",
              "    fill: var(--disabled-fill-color);\n",
              "    box-shadow: none;\n",
              "  }\n",
              "\n",
              "  .colab-df-spinner {\n",
              "    border: 2px solid var(--fill-color);\n",
              "    border-color: transparent;\n",
              "    border-bottom-color: var(--fill-color);\n",
              "    animation:\n",
              "      spin 1s steps(1) infinite;\n",
              "  }\n",
              "\n",
              "  @keyframes spin {\n",
              "    0% {\n",
              "      border-color: transparent;\n",
              "      border-bottom-color: var(--fill-color);\n",
              "      border-left-color: var(--fill-color);\n",
              "    }\n",
              "    20% {\n",
              "      border-color: transparent;\n",
              "      border-left-color: var(--fill-color);\n",
              "      border-top-color: var(--fill-color);\n",
              "    }\n",
              "    30% {\n",
              "      border-color: transparent;\n",
              "      border-left-color: var(--fill-color);\n",
              "      border-top-color: var(--fill-color);\n",
              "      border-right-color: var(--fill-color);\n",
              "    }\n",
              "    40% {\n",
              "      border-color: transparent;\n",
              "      border-right-color: var(--fill-color);\n",
              "      border-top-color: var(--fill-color);\n",
              "    }\n",
              "    60% {\n",
              "      border-color: transparent;\n",
              "      border-right-color: var(--fill-color);\n",
              "    }\n",
              "    80% {\n",
              "      border-color: transparent;\n",
              "      border-right-color: var(--fill-color);\n",
              "      border-bottom-color: var(--fill-color);\n",
              "    }\n",
              "    90% {\n",
              "      border-color: transparent;\n",
              "      border-bottom-color: var(--fill-color);\n",
              "    }\n",
              "  }\n",
              "</style>\n",
              "\n",
              "      <script>\n",
              "        async function quickchart(key) {\n",
              "          const quickchartButtonEl =\n",
              "            document.querySelector('#' + key + ' button');\n",
              "          quickchartButtonEl.disabled = true;  // To prevent multiple clicks.\n",
              "          quickchartButtonEl.classList.add('colab-df-spinner');\n",
              "          try {\n",
              "            const charts = await google.colab.kernel.invokeFunction(\n",
              "                'suggestCharts', [key], {});\n",
              "          } catch (error) {\n",
              "            console.error('Error during call to suggestCharts:', error);\n",
              "          }\n",
              "          quickchartButtonEl.classList.remove('colab-df-spinner');\n",
              "          quickchartButtonEl.classList.add('colab-df-quickchart-complete');\n",
              "        }\n",
              "        (() => {\n",
              "          let quickchartButtonEl =\n",
              "            document.querySelector('#df-d9c6b8c5-9c17-490c-b933-202f2e6420d6 button');\n",
              "          quickchartButtonEl.style.display =\n",
              "            google.colab.kernel.accessAllowed ? 'block' : 'none';\n",
              "        })();\n",
              "      </script>\n",
              "    </div>\n",
              "\n",
              "    </div>\n",
              "  </div>\n"
            ],
            "application/vnd.google.colaboratory.intrinsic+json": {
              "type": "dataframe",
              "summary": "{\n  \"name\": \"dataset\",\n  \"rows\": 8,\n  \"fields\": [\n    {\n      \"column\": \"VendorID\",\n      \"properties\": {\n        \"dtype\": \"number\",\n        \"std\": 2264511.631399731,\n        \"min\": 0.4691264930577864,\n        \"max\": 6405008.0,\n        \"num_unique_values\": 6,\n        \"samples\": [\n          6405008.0,\n          1.6730021258365328,\n          0.4691264930577864\n        ],\n        \"semantic_type\": \"\",\n        \"description\": \"\"\n      }\n    },\n    {\n      \"column\": \"tpep_pickup_datetime\",\n      \"properties\": {\n        \"dtype\": \"date\",\n        \"min\": \"1970-01-01 00:00:00.006405008\",\n        \"max\": \"2021-01-02 01:12:10\",\n        \"num_unique_values\": 7,\n        \"samples\": [\n          \"6405008\",\n          \"2020-01-17 03:05:16.413238\",\n          \"2020-01-24 18:24:30\"\n        ],\n        \"semantic_type\": \"\",\n        \"description\": \"\"\n      }\n    },\n    {\n      \"column\": \"tpep_dropoff_datetime\",\n      \"properties\": {\n        \"dtype\": \"date\",\n        \"min\": \"1970-01-01 00:00:00.006405008\",\n        \"max\": \"2021-01-02 01:25:01\",\n        \"num_unique_values\": 7,\n        \"samples\": [\n          \"6405008\",\n          \"2020-01-17 03:21:13.417920\",\n          \"2020-01-24 18:39:51\"\n        ],\n        \"semantic_type\": \"\",\n        \"description\": \"\"\n      }\n    },\n    {\n      \"column\": \"passenger_count\",\n      \"properties\": {\n        \"dtype\": \"number\",\n        \"std\": 2241374.6164456964,\n        \"min\": 0.0,\n        \"max\": 6339567.0,\n        \"num_unique_values\": 7,\n        \"samples\": [\n          6339567.0,\n          1.5153326717739555,\n          9.0\n        ],\n        \"semantic_type\": \"\",\n        \"description\": \"\"\n      }\n    },\n    {\n      \"column\": \"trip_distance\",\n      \"properties\": {\n        \"dtype\": \"number\",\n        \"std\": 2255090.7229687735,\n        \"min\": -30.62,\n        \"max\": 6405008.0,\n        \"num_unique_values\": 8,\n        \"samples\": [\n          2.929643933309688,\n          2.93,\n          6405008.0\n        ],\n        \"semantic_type\": \"\",\n        \"description\": \"\"\n      }\n    },\n    {\n      \"column\": \"RatecodeID\",\n      \"properties\": {\n        \"dtype\": \"number\",\n        \"std\": 2241370.1111823814,\n        \"min\": 0.8118432072206938,\n        \"max\": 6339567.0,\n        \"num_unique_values\": 5,\n        \"samples\": [\n          1.0599077192495954,\n          0.8118432072206938,\n          1.0\n        ],\n        \"semantic_type\": \"\",\n        \"description\": \"\"\n      }\n    },\n    {\n      \"column\": \"PULocationID\",\n      \"properties\": {\n        \"dtype\": \"number\",\n        \"std\": 2264460.56301044,\n        \"min\": 1.0,\n        \"max\": 6405008.0,\n        \"num_unique_values\": 8,\n        \"samples\": [\n          164.73225778952968,\n          234.0,\n          6405008.0\n        ],\n        \"semantic_type\": \"\",\n        \"description\": \"\"\n      }\n    },\n    {\n      \"column\": \"DOLocationID\",\n      \"properties\": {\n        \"dtype\": \"number\",\n        \"std\": 2264461.4065265455,\n        \"min\": 1.0,\n        \"max\": 6405008.0,\n        \"num_unique_values\": 8,\n        \"samples\": [\n          162.6626908194338,\n          234.0,\n          6405008.0\n        ],\n        \"semantic_type\": \"\",\n        \"description\": \"\"\n      }\n    },\n    {\n      \"column\": \"payment_type\",\n      \"properties\": {\n        \"dtype\": \"number\",\n        \"std\": 2264511.752428345,\n        \"min\": 0.0,\n        \"max\": 6405008.0,\n        \"num_unique_values\": 7,\n        \"samples\": [\n          6405008.0,\n          1.2573192726691365,\n          5.0\n        ],\n        \"semantic_type\": \"\",\n        \"description\": \"\"\n      }\n    },\n    {\n      \"column\": \"fare_amount\",\n      \"properties\": {\n        \"dtype\": \"number\",\n        \"std\": 2264357.2443308383,\n        \"min\": -1238.0,\n        \"max\": 6405008.0,\n        \"num_unique_values\": 8,\n        \"samples\": [\n          12.694108119771293,\n          14.0,\n          6405008.0\n        ],\n        \"semantic_type\": \"\",\n        \"description\": \"\"\n      }\n    },\n    {\n      \"column\": \"extra\",\n      \"properties\": {\n        \"dtype\": \"number\",\n        \"std\": 2264507.6799002276,\n        \"min\": -27.0,\n        \"max\": 6405008.0,\n        \"num_unique_values\": 8,\n        \"samples\": [\n          1.1154564069240762,\n          2.5,\n          6405008.0\n        ],\n        \"semantic_type\": \"\",\n        \"description\": \"\"\n      }\n    },\n    {\n      \"column\": \"mta_tax\",\n      \"properties\": {\n        \"dtype\": \"number\",\n        \"std\": 2264510.6604693905,\n        \"min\": -0.5,\n        \"max\": 6405008.0,\n        \"num_unique_values\": 6,\n        \"samples\": [\n          6405008.0,\n          0.49231818133560484,\n          0.0737418375270961\n        ],\n        \"semantic_type\": \"\",\n        \"description\": \"\"\n      }\n    },\n    {\n      \"column\": \"tip_amount\",\n      \"properties\": {\n        \"dtype\": \"number\",\n        \"std\": 2264460.8738110736,\n        \"min\": -91.0,\n        \"max\": 6405008.0,\n        \"num_unique_values\": 8,\n        \"samples\": [\n          2.1893418306425234,\n          2.86,\n          6405008.0\n        ],\n        \"semantic_type\": \"\",\n        \"description\": \"\"\n      }\n    },\n    {\n      \"column\": \"tolls_amount\",\n      \"properties\": {\n        \"dtype\": \"number\",\n        \"std\": 2264468.0289853048,\n        \"min\": -35.74,\n        \"max\": 6405008.0,\n        \"num_unique_values\": 6,\n        \"samples\": [\n          6405008.0,\n          0.3488395018398099,\n          1.76697816805325\n        ],\n        \"semantic_type\": \"\",\n        \"description\": \"\"\n      }\n    },\n    {\n      \"column\": \"improvement_surcharge\",\n      \"properties\": {\n        \"dtype\": \"number\",\n        \"std\": 2264512.2329594167,\n        \"min\": -0.3,\n        \"max\": 6405008.0,\n        \"num_unique_values\": 5,\n        \"samples\": [\n          0.2979869814370256,\n          0.033859371478432126,\n          -0.3\n        ],\n        \"semantic_type\": \"\",\n        \"description\": \"\"\n      }\n    },\n    {\n      \"column\": \"total_amount\",\n      \"properties\": {\n        \"dtype\": \"number\",\n        \"std\": 2264356.0651123193,\n        \"min\": -1242.3,\n        \"max\": 6405008.0,\n        \"num_unique_values\": 8,\n        \"samples\": [\n          18.663148797003842,\n          19.8,\n          6405008.0\n        ],\n        \"semantic_type\": \"\",\n        \"description\": \"\"\n      }\n    },\n    {\n      \"column\": \"congestion_surcharge\",\n      \"properties\": {\n        \"dtype\": \"number\",\n        \"std\": 2241374.864748407,\n        \"min\": -2.5,\n        \"max\": 6339567.0,\n        \"num_unique_values\": 6,\n        \"samples\": [\n          6339567.0,\n          2.299051851648543,\n          0.7017109042178749\n        ],\n        \"semantic_type\": \"\",\n        \"description\": \"\"\n      }\n    }\n  ]\n}"
            }
          },
          "metadata": {},
          "execution_count": 7
        }
      ]
    },
    {
      "cell_type": "markdown",
      "metadata": {
        "id": "moND4Guj9hIB"
      },
      "source": [
        "Most of the variables are unlikely to have a significant impact on Chance of admit. To avoid dealing with irrelevant columns, try finding out which variables have strong correlation with data. A way to see this is using heatmaps. Heatmaps take numerical data as inputs and find correlation between all X and Y values. For those values which are not numerical, we convert them to numerical values and then make heatmap. That part is not covered in this lab. You need to explore it yourself outside the class. Since there are a lot of columns, we are not finding correlation between all values. We are just trying it for 10 columns."
      ]
    },
    {
      "cell_type": "code",
      "execution_count": 8,
      "metadata": {
        "colab": {
          "base_uri": "https://localhost:8080/",
          "height": 837
        },
        "id": "lzl9ajyh9iiJ",
        "outputId": "d937f30c-7304-441e-9a75-3a04c3260ceb"
      },
      "outputs": [
        {
          "output_type": "display_data",
          "data": {
            "text/plain": [
              "<Figure size 800x800 with 2 Axes>"
            ],
            "image/png": "[encoded data removed]"
          },
          "metadata": {}
        }
      ],
      "source": [
        "# DO NOT EDIT\n",
        "updated_dataset=dataset[['tpep_dropoff_datetime','tpep_pickup_datetime','improvement_surcharge','passenger_count','total_amount','trip_distance','PULocationID','DOLocationID']]\n",
        "plt.figure(figsize=(8,8))\n",
        "correlation_matrix = updated_dataset.corr().round(2)\n",
        "sns.heatmap(data=correlation_matrix, annot=True)\n",
        "plt.show()"
      ]
    },
    {
      "cell_type": "markdown",
      "source": [
        "If we wanted to predict total_amount, you can see very clearly that it is affected highly by PULocationID, DOLocationID and improvement surcharge. We will use these 3 columns to predict total_amount."
      ],
      "metadata": {
        "id": "G8KY3MwGwcno"
      }
    },
    {
      "cell_type": "markdown",
      "source": [
        "#Q2: [10 Points]\n",
        "We need to drop all remaining columns from the dataset and just keep these 3. You can use help(updated_dataset.drop) to understand how to drop column or columns from a dataframe. Or, you can use the same method which I did in few cells earlier to create updated_dataset."
      ],
      "metadata": {
        "id": "zNRQ90GQGfmC"
      }
    },
    {
      "cell_type": "code",
      "source": [
        "help(dataset.drop)\n",
        "\n",
        "#TOTO\n",
        "def update_dataset(dataset):\n",
        "    # BEGIN SOLUTION\n",
        "    # final_dataset=dataset.drop(columns=['VendorID', 'tpep_pickup_datetime', 'tpep_dropoff_datetime', 'passenger_count', 'trip_distance', 'RatecodeID', 'store_and_fwd_flag', 'payment_type', 'fare_amount', 'extra', 'mta_tax', 'tip_amount', 'tolls_amount', 'total_amount', 'congestion_surcharge', 'airport_fee'])\n",
        "    final_dataset=dataset[['improvement_surcharge','DOLocationID','PULocationID']]\n",
        "    # END SOLUTION\n",
        "    return final_dataset"
      ],
      "metadata": {
        "id": "BN_RrNiv3bJ9",
        "colab": {
          "base_uri": "https://localhost:8080/"
        },
        "outputId": "6e121083-0bba-47c1-fd47-269aed5e6507"
      },
      "execution_count": 28,
      "outputs": [
        {
          "output_type": "stream",
          "name": "stdout",
          "text": [
            "Help on method drop in module pandas.core.frame:\n",
            "\n",
            "drop(labels: 'IndexLabel | None' = None, *, axis: 'Axis' = 0, index: 'IndexLabel | None' = None, columns: 'IndexLabel | None' = None, level: 'Level | None' = None, inplace: 'bool' = False, errors: 'IgnoreRaise' = 'raise') -> 'DataFrame | None' method of pandas.core.frame.DataFrame instance\n",
            "    Drop specified labels from rows or columns.\n",
            "\n",
            "    Remove rows or columns by specifying label names and corresponding\n",
            "    axis, or by directly specifying index or column names. When using a\n",
            "    multi-index, labels on different levels can be removed by specifying\n",
            "    the level. See the :ref:`user guide <advanced.shown_levels>`\n",
            "    for more information about the now unused levels.\n",
            "\n",
            "    Parameters\n",
            "    ----------\n",
            "    labels : single label or list-like\n",
            "        Index or column labels to drop. A tuple will be used as a single\n",
            "        label and not treated as a list-like.\n",
            "    axis : {0 or 'index', 1 or 'columns'}, default 0\n",
            "        Whether to drop labels from the index (0 or 'index') or\n",
            "        columns (1 or 'columns').\n",
            "    index : single label or list-like\n",
            "        Alternative to specifying axis (``labels, axis=0``\n",
            "        is equivalent to ``index=labels``).\n",
            "    columns : single label or list-like\n",
            "        Alternative to specifying axis (``labels, axis=1``\n",
            "        is equivalent to ``columns=labels``).\n",
            "    level : int or level name, optional\n",
            "        For MultiIndex, level from which the labels will be removed.\n",
            "    inplace : bool, default False\n",
            "        If False, return a copy. Otherwise, do operation\n",
            "        in place and return None.\n",
            "    errors : {'ignore', 'raise'}, default 'raise'\n",
            "        If 'ignore', suppress error and only existing labels are\n",
            "        dropped.\n",
            "\n",
            "    Returns\n",
            "    -------\n",
            "    DataFrame or None\n",
            "        Returns DataFrame or None DataFrame with the specified\n",
            "        index or column labels removed or None if inplace=True.\n",
            "\n",
            "    Raises\n",
            "    ------\n",
            "    KeyError\n",
            "        If any of the labels is not found in the selected axis.\n",
            "\n",
            "    See Also\n",
            "    --------\n",
            "    DataFrame.loc : Label-location based indexer for selection by label.\n",
            "    DataFrame.dropna : Return DataFrame with labels on given axis omitted\n",
            "        where (all or any) data are missing.\n",
            "    DataFrame.drop_duplicates : Return DataFrame with duplicate rows\n",
            "        removed, optionally only considering certain columns.\n",
            "    Series.drop : Return Series with specified index labels removed.\n",
            "\n",
            "    Examples\n",
            "    --------\n",
            "    >>> df = pd.DataFrame(np.arange(12).reshape(3, 4),\n",
            "    ...                   columns=['A', 'B', 'C', 'D'])\n",
            "    >>> df\n",
            "       A  B   C   D\n",
            "    0  0  1   2   3\n",
            "    1  4  5   6   7\n",
            "    2  8  9  10  11\n",
            "\n",
            "    Drop columns\n",
            "\n",
            "    >>> df.drop(['B', 'C'], axis=1)\n",
            "       A   D\n",
            "    0  0   3\n",
            "    1  4   7\n",
            "    2  8  11\n",
            "\n",
            "    >>> df.drop(columns=['B', 'C'])\n",
            "       A   D\n",
            "    0  0   3\n",
            "    1  4   7\n",
            "    2  8  11\n",
            "\n",
            "    Drop a row by index\n",
            "\n",
            "    >>> df.drop([0, 1])\n",
            "       A  B   C   D\n",
            "    2  8  9  10  11\n",
            "\n",
            "    Drop columns and/or rows of MultiIndex DataFrame\n",
            "\n",
            "    >>> midx = pd.MultiIndex(levels=[['llama', 'cow', 'falcon'],\n",
            "    ...                              ['speed', 'weight', 'length']],\n",
            "    ...                      codes=[[0, 0, 0, 1, 1, 1, 2, 2, 2],\n",
            "    ...                             [0, 1, 2, 0, 1, 2, 0, 1, 2]])\n",
            "    >>> df = pd.DataFrame(index=midx, columns=['big', 'small'],\n",
            "    ...                   data=[[45, 30], [200, 100], [1.5, 1], [30, 20],\n",
            "    ...                         [250, 150], [1.5, 0.8], [320, 250],\n",
            "    ...                         [1, 0.8], [0.3, 0.2]])\n",
            "    >>> df\n",
            "                    big     small\n",
            "    llama   speed   45.0    30.0\n",
            "            weight  200.0   100.0\n",
            "            length  1.5     1.0\n",
            "    cow     speed   30.0    20.0\n",
            "            weight  250.0   150.0\n",
            "            length  1.5     0.8\n",
            "    falcon  speed   320.0   250.0\n",
            "            weight  1.0     0.8\n",
            "            length  0.3     0.2\n",
            "\n",
            "    Drop a specific index combination from the MultiIndex\n",
            "    DataFrame, i.e., drop the combination ``'falcon'`` and\n",
            "    ``'weight'``, which deletes only the corresponding row\n",
            "\n",
            "    >>> df.drop(index=('falcon', 'weight'))\n",
            "                    big     small\n",
            "    llama   speed   45.0    30.0\n",
            "            weight  200.0   100.0\n",
            "            length  1.5     1.0\n",
            "    cow     speed   30.0    20.0\n",
            "            weight  250.0   150.0\n",
            "            length  1.5     0.8\n",
            "    falcon  speed   320.0   250.0\n",
            "            length  0.3     0.2\n",
            "\n",
            "    >>> df.drop(index='cow', columns='small')\n",
            "                    big\n",
            "    llama   speed   45.0\n",
            "            weight  200.0\n",
            "            length  1.5\n",
            "    falcon  speed   320.0\n",
            "            weight  1.0\n",
            "            length  0.3\n",
            "\n",
            "    >>> df.drop(index='length', level=1)\n",
            "                    big     small\n",
            "    llama   speed   45.0    30.0\n",
            "            weight  200.0   100.0\n",
            "    cow     speed   30.0    20.0\n",
            "            weight  250.0   150.0\n",
            "    falcon  speed   320.0   250.0\n",
            "            weight  1.0     0.8\n",
            "\n"
          ]
        }
      ]
    },
    {
      "cell_type": "code",
      "source": [
        "# TEST CASE for Q2 - dropping columns\n",
        "def test_drop_columns():\n",
        "    # Create a sample DataFrame\n",
        "    expected_columns = [\"improvement_surcharge\",\"DOLocationID\",\"PULocationID\"]\n",
        "    final_dataset=update_dataset(dataset)\n",
        "    # Check if the returned object is a pandas DataFrame\n",
        "    assert isinstance(final_dataset, pd.DataFrame), \"The returned object is not a pandas DataFrame.\"\n",
        "\n",
        "    # Check if the remaining columns are the expected ones\n",
        "    assert list(final_dataset.columns) == expected_columns, f\"The remaining columns are incorrect. Expected: {expected_columns}, Got: {list(list(final_dataset.columns))}\"\n",
        "\n",
        "    print(\"Test case for dropping columns passed!\")\n",
        "\n",
        "# Run the test case\n",
        "test_drop_columns()"
      ],
      "metadata": {
        "colab": {
          "base_uri": "https://localhost:8080/"
        },
        "id": "D43azzGP3b3_",
        "outputId": "c37147d8-2a19-48bb-f139-bdcfb721bb08"
      },
      "execution_count": 29,
      "outputs": [
        {
          "output_type": "stream",
          "name": "stdout",
          "text": [
            "Test case for dropping columns passed!\n"
          ]
        }
      ]
    },
    {
      "cell_type": "markdown",
      "metadata": {
        "id": "WSO48LNL99g-"
      },
      "source": [
        "#Q3: [20 Points]"
      ]
    },
    {
      "cell_type": "markdown",
      "metadata": {
        "id": "nsoKMqpB9_yu"
      },
      "source": [
        "To determine whether regression is effective, we can split our data into a training and test set and compare performance. Before splitting data, make sure to shuffle it because data is sometimes arranged in a specific order, such as all low-end houses first. If the data is not properly shuffled, it may fail to learn patterns. So, to avoid bias in your training data, shuffle it before splitting.\n",
        "\n",
        "<center>\n",
        "\n",
        "![Google Drive Image](https://drive.google.com/uc?export=view&id=13ZwKJ0RyGZo76LI9NBVVRQc83T5moGcq)\n",
        "\n",
        "</center>\n",
        "\n",
        "\n",
        "\n",
        "\n",
        "\n",
        "\n"
      ]
    },
    {
      "cell_type": "markdown",
      "metadata": {
        "id": "687CG0A5-B3q"
      },
      "source": [
        "**Your task is to split the dataset into training and test dataset by completing the function `train_test_split(inputs,outputs,test_size,seed)`**"
      ]
    },
    {
      "cell_type": "markdown",
      "metadata": {
        "id": "RH_3cHAI-D9O"
      },
      "source": [
        "**Important note on seed**: Reproducability is extremely important. Sometimes, you might find a good seed for a split. When dealing with random shuffling, you will get different results everytime you run. You can set a global seed by using `np.random.seed(42)` however that sets the global seed. It is useful over here to not change the global seed here, since if you want to reproduce the same result, you will have to run the entire code again. The solution to this problem is that you create a generator with a specific seed and use that for generation. [You can find more about setting seeds here](https://builtin.com/data-science/numpy-random-seed)"
      ]
    },
    {
      "cell_type": "code",
      "execution_count": 69,
      "metadata": {
        "id": "kHhzToqz96sI",
        "tags": []
      },
      "outputs": [],
      "source": [
        "# TODO: Complete train_test_split\n",
        "def train_test_split(inputs,outputs,test_size,seed = 0):\n",
        "    \"\"\"\n",
        "    Splits the data into training and test sets.\n",
        "    Return 4 numpy arrays. X_train, X_test, Y_train, Y_test\n",
        "    where training data is test_size proportion of data provided.\n",
        "\n",
        "    Args:\n",
        "        inputs [np.array] : numpy array of input data\n",
        "        outputs [np.array]: numpy array of output labels\n",
        "        test_size [float]: proportion of data to be used as test data. e.g. 0.2 means 20% of data is used for test data.\n",
        "        seed [int]: A seed to create random number generator. (For reproducability)\n",
        "    \"\"\"\n",
        "    rng = np.random.default_rng(seed)\n",
        "    assert(len(inputs) == len(outputs))\n",
        "    assert(test_size <= 1.0)\n",
        "    assert(test_size >= 0.0)\n",
        "    num_samples = len(inputs)\n",
        "    num_train = int(num_samples * (1.0 - test_size))\n",
        "    # Create index using np.arange\n",
        "    # Shuffle the dataset using rng.shuffle\n",
        "    # Use help function to understand rng.shuffle\n",
        "    # Split the dataset into train, test\n",
        "    # BEGIN SOLUTION\n",
        "    index=np.arange(num_samples)\n",
        "    rng.shuffle(index)\n",
        "\n",
        "    X_train = inputs[index[:num_train]]\n",
        "    X_test = inputs[index[num_train:]]\n",
        "    Y_train = outputs[index[:num_train]]\n",
        "    Y_test = outputs[index[num_train:]]\n",
        "    # END SOLUTION\n",
        "    return X_train, X_test, Y_train, Y_test\n",
        "# help(np.arange)"
      ]
    },
    {
      "cell_type": "code",
      "execution_count": 71,
      "metadata": {
        "colab": {
          "base_uri": "https://localhost:8080/"
        },
        "id": "m_s0otM3dqPm",
        "outputId": "e094986c-a5fc-46d9-bac4-3de16d9cf1ab"
      },
      "outputs": [
        {
          "output_type": "stream",
          "name": "stdout",
          "text": [
            "x_train: [5. 7. 3. 8. 4.], x_test: [ 6. 10.  1.  9.  2.], y_train: [ 7  9  5 10  6], y_test: [ 8 12  3 11  4]\n"
          ]
        }
      ],
      "source": [
        "# DO NOT EDIT\n",
        "# TEST CODE FOR CHECKING THE FUNCTION.\n",
        "x_input = np.array([1.0,2.0,3.0,4.0,5.0,6.0,7.0,8.0,9.0,10.0])\n",
        "y_output = np.array([3,4,5,6,7,8,9,10,11,12])\n",
        "seed = 0\n",
        "split = 0.5\n",
        "x_train,x_test,y_train,y_test = train_test_split(x_input,y_output,split,seed)\n",
        "print(f'x_train: {x_train}, x_test: {x_test}, y_train: {y_train}, y_test: {y_test}')\n",
        "assert np.allclose(x_train,np.array([5.0,7.0,3.0,8.0,4.0]))\n",
        "assert np.allclose(x_test,np.array([6.0,10.0,1.0,9.0,2.0]))\n",
        "assert np.allclose(y_train,np.array([ 7,  9,  5, 10,  6]))\n",
        "assert np.allclose(y_test,np.array([8,12,3,11,4]))"
      ]
    },
    {
      "cell_type": "markdown",
      "source": [
        "RELU Activation Function"
      ],
      "metadata": {
        "id": "29a8pGCK8jub"
      }
    },
    {
      "cell_type": "code",
      "source": [
        "# DO NOT EDIT\n",
        "def ReLU(preactivation):\n",
        "  activation=np.where(preactivation>=0,preactivation,0)\n",
        "  return activation\n",
        "\n",
        "def relu_derivative(x):\n",
        "  return np.where(x > 0, 1, 0)"
      ],
      "metadata": {
        "id": "mUcEZ10V8kqD"
      },
      "execution_count": 72,
      "outputs": []
    },
    {
      "cell_type": "markdown",
      "metadata": {
        "id": "yhNMXpldI0BB"
      },
      "source": [
        "#Q4 - [20 Points]\n",
        "\n"
      ]
    },
    {
      "cell_type": "markdown",
      "metadata": {
        "id": "bNrneq1DJ59e"
      },
      "source": [
        "Before we perform operations, we must define our model, relating its inputs and parameters to its outputs. For this specific question, we will build a model with 1 hidden layer. Hence, a total of 3 layers, 1 input, 1 hidden and 1 output.\n",
        "\n",
        "Previously, we used to store all theta values as separate variables. For this lab, we will build a matrix of all those values.\n",
        "\n",
        "**In this task you are required to initialse the model weights and bias (thetas) by implementing the function `initialise_model`.**\n",
        "You have to initialize weights and biases using np.random.randn function. Scale your weights and biases with a factor of 0.0000001 after initialization to scale them.\n",
        "This is the image of the neural network.\n",
        "\n",
        "<center>\n",
        "\n",
        "![Google Drive Image](https://drive.google.com/uc?export=view&id=1CquQEUapYXnRTfBVGavzuv3-IuWg4_bN)\n",
        "\n",
        "</center>"
      ]
    },
    {
      "cell_type": "code",
      "execution_count": 73,
      "metadata": {
        "id": "gdNt-ie6Lmrr",
        "colab": {
          "base_uri": "https://localhost:8080/"
        },
        "outputId": "afd537eb-2048-4831-9c02-0760b070113e"
      },
      "outputs": [
        {
          "output_type": "stream",
          "name": "stdout",
          "text": [
            "(array([[-1.23695071e-07, -1.32045661e-07]]), array([[5.21941566e-08, 2.96984673e-08]]), array([[2.50492850e-08],\n",
            "       [3.46448209e-08]]), array([[-6.80024722e-08]]))\n"
          ]
        }
      ],
      "source": [
        "# TODO: Complete initialise_model\n",
        "def initialise_model(input_size,hidden_size,output_size):\n",
        "    \"\"\"\n",
        "    Args:\n",
        "        input_size: Size of the input layer\n",
        "        hidden_size: Size of the first hidden layer\n",
        "        output_size: Size of the output layer\n",
        "    \"\"\"\n",
        "    # BEGIN SOLUTION\n",
        "    weights1 = np.random.randn(input_size,hidden_size)*0.0000001\n",
        "    bias1 = np.random.randn(1,hidden_size)*0.0000001\n",
        "    weights2 = np.random.randn(hidden_size,output_size)*0.0000001\n",
        "    bias2 = np.random.randn(1,output_size)*0.0000001\n",
        "\n",
        "\n",
        "\n",
        "    # END SOLUTION\n",
        "    return weights1,bias1,weights2,bias2\n",
        "\n",
        "#### This line is just for testing\n",
        "#### Remove the comment from print function and run it.\n",
        "print(initialise_model(1,2,1))"
      ]
    },
    {
      "cell_type": "code",
      "source": [
        "# DO NOT EDIT\n",
        "# TEST CODE FOR CHECKING THE FUNCTION.\n",
        "weights1,bias1,weights2,bias2 = initialise_model(1,2,1)\n",
        "print(f'weights1: {weights1}, bias1: {bias1}, weights2: {weights2}, bias2: {bias2}')\n",
        "#Check the dimensions of weights1, bias1, weights2, bias2\n",
        "assert weights1.shape == (1,2)\n",
        "assert bias1.shape == (1,2)\n",
        "assert weights2.shape == (2,1)\n",
        "assert bias2.shape == (1,1)\n",
        "print(\"Test Cases Passed\")"
      ],
      "metadata": {
        "colab": {
          "base_uri": "https://localhost:8080/"
        },
        "id": "UVhD0MQxPZxW",
        "outputId": "4a080f0c-ca55-46f7-d9b2-c584c442dd29"
      },
      "execution_count": 74,
      "outputs": [
        {
          "output_type": "stream",
          "name": "stdout",
          "text": [
            "weights1: [[2.32253697e-08 2.93072473e-08]], bias1: [[-7.14351418e-08  1.86577451e-07]], weights2: [[ 4.73832921e-08]\n",
            " [-1.19130350e-07]], bias2: [[6.56553609e-08]]\n",
            "Test Cases Passed\n"
          ]
        }
      ]
    },
    {
      "cell_type": "markdown",
      "metadata": {
        "id": "tgXfsr4DXncO"
      },
      "source": [
        "#Q5 - [20 Points]\n",
        "\n"
      ]
    },
    {
      "cell_type": "markdown",
      "metadata": {
        "id": "LwSW0mfUXzjY"
      },
      "source": [
        "In class, we have studied the method of multiplying weights with x and add bias to it. However, there are other conventions as well. When going forward, convention for multiplication is to multiple x with weights and then add bias. For this specific task, we will multiply, x with weights and then add bias. Complete the below given function following this convention.\n",
        "\n",
        "Here are the equations based on this converntion.\n",
        "\n",
        "<center>\n",
        "\n",
        "![Google Drive Image](https://drive.google.com/uc?export=view&id=1sjRs9OGNGTT_oMjJvy_dgi98U4hfPoxf)\n",
        "\n",
        "</center>\n",
        "\n",
        "Function returns the linear output of the model.\n",
        "\n",
        "Args:\n",
        "\n",
        "    x: Input data (numpy array)\n",
        "    weights1: Weights for the first hidden layer (numpy array)\n",
        "    weights2: Weights for the output layer (numpy array)\n",
        "    bias1: Biases for the first hidden layer (numpy array)\n",
        "    bias2: Biases for the output layer (numpy array)."
      ]
    },
    {
      "cell_type": "code",
      "execution_count": 54,
      "metadata": {
        "id": "74kQBe83YUR5"
      },
      "outputs": [],
      "source": [
        "#TODO: Complete forward\n",
        "def forward(x,weights1,bias1,weights2,bias2):\n",
        "    # BEGIN SOLUTION\n",
        "    hidden_layer_1 = np.dot(x,weights1) + bias1\n",
        "    hidden_layer_1 = ReLU(hidden_layer_1)\n",
        "    output = np.dot(hidden_layer_1,weights2) + bias2\n",
        "    return hidden_layer_1,output\n",
        "    # END SOLUTION"
      ]
    },
    {
      "cell_type": "code",
      "source": [
        "# DO NOT EDIT\n",
        "# TEST CODE FOR CHECKING THE FUNCTION.\n",
        "x_input = np.array([[1.0,2.0]])\n",
        "weights1 = np.array([[0.3,0.4],[0.5,0.6]])\n",
        "weights2 = np.array([[0.7],[0.8]]) # Updated weights2 to match the output layer size of 1\n",
        "bias1 = np.array([[0.1,0.2]])\n",
        "bias2 = np.array([[0.3]]) # Updated bias2 to match the output layer size of 1\n",
        "hidden_layer_1,output = forward(x_input,weights1,bias1,weights2,bias2) # Removed extra return values\n",
        "print(f'hidden_layer_1: {hidden_layer_1}, output: {output}')\n",
        "assert np.allclose(hidden_layer_1,np.array([[1.4, 1.8]]))\n",
        "assert np.allclose(output,np.array([[1.4*0.7 + 1.8*0.8 + 0.3]])) # Updated assertion for the output\n",
        "print(\"Test Cases Passed\")"
      ],
      "metadata": {
        "colab": {
          "base_uri": "https://localhost:8080/"
        },
        "id": "F3oLPTGVq9k3",
        "outputId": "2fa9b816-11a4-44e5-fff8-330d731e240a"
      },
      "execution_count": 55,
      "outputs": [
        {
          "output_type": "stream",
          "name": "stdout",
          "text": [
            "hidden_layer_1: [[1.4 1.8]], output: [[2.72]]\n",
            "Test Cases Passed\n"
          ]
        }
      ]
    },
    {
      "cell_type": "markdown",
      "metadata": {
        "id": "YDT6bO-9FTx9"
      },
      "source": [
        "Evaluation:\n",
        "\n",
        "Mean Squared error is defined as\n",
        "\n",
        "$$\\text{MSE} = \\dfrac{1}{n}\\sum\\limits_{i=1}^{n}(y_i-\\hat{y}_i)^2$$\n",
        "\n",
        "where $y_i$ is your actual value and $\\hat{y}_i$ is the predicted value. You have already completed this in previous lab."
      ]
    },
    {
      "cell_type": "code",
      "execution_count": 56,
      "metadata": {
        "id": "VkYrcJMvE_II",
        "tags": []
      },
      "outputs": [],
      "source": [
        "def mean_squared_error(y_actual,y_prediction):\n",
        "    \"\"\"\n",
        "    Returns mean squared error using prediction and actual data\n",
        "    Args:\n",
        "        y_actual [np.array]     : Actual output vector\n",
        "        y_prediction [np.array] : Predicted output vector\n",
        "    \"\"\"\n",
        "    #print(y_actual,y_prediction)\n",
        "    return np.mean(np.square(y_actual - y_prediction))"
      ]
    },
    {
      "cell_type": "markdown",
      "metadata": {
        "id": "tUV7PHLGg69w"
      },
      "source": [
        "**Gradient Descent**\n",
        "\n",
        "This has been calculated for you. We will study more about Gradient Descent later in the course.\n",
        "\n",
        "Calculates gradients for the weights and biases using backpropagation.\n",
        "\n",
        "Args:\n",
        "\n",
        "  X: Input data (numpy array)\n",
        "\n",
        "  y: Target labels (numpy array)\n",
        "\n",
        "  output: Output of the neural network (numpy array)\n",
        "\n",
        "  hidden_layer_1: Output of the first hidden layer (numpy array)\n",
        "\n",
        "  weights1: Weights for the first hidden layer (numpy array)\n",
        "\n",
        "  weights2: Weights for the output layer (numpy array)\n",
        "\n",
        "  bias1: Biases for the first hidden layer (numpy array)\n",
        "\n",
        "  bias2: Biases for the output layer (numpy array)\n",
        "\n",
        "Returns:\n",
        "  Dictionary containing gradients for weights and biases"
      ]
    },
    {
      "cell_type": "code",
      "execution_count": 57,
      "metadata": {
        "id": "Gct9i0yIiDdY"
      },
      "outputs": [],
      "source": [
        "def gradient_descent(X, y, output, hidden_layer_1, weights1, weights2, bias1, bias2):\n",
        "    \"\"\"\n",
        "    Calculates gradients for the weights and biases using backpropagation with ReLU activation.\n",
        "\n",
        "    Args:\n",
        "        X: Input data (numpy array)\n",
        "        y: Target labels (numpy array)\n",
        "        output: Output of the neural network (numpy array)\n",
        "        weights1: Weights for the first hidden layer (numpy array)\n",
        "        weights2: Weights for the output layer (numpy array)\n",
        "        bias1: Biases for the first hidden layer (numpy array)\n",
        "        bias2: Biases for the second hidden layer (numpy array)\n",
        "\n",
        "    Returns:\n",
        "        gradients for weights and biases\n",
        "    \"\"\"\n",
        "    # Calculate the error\n",
        "    delta_output = output - y\n",
        "\n",
        "    # Calculate the error for the first hidden layer\n",
        "    delta_hidden_1 = np.dot(delta_output, weights2.T) * relu_derivative(hidden_layer_1)\n",
        "\n",
        "    # Calculate gradients\n",
        "    d_weights1 = np.dot(X.T, delta_hidden_1)\n",
        "    d_weights2 = np.dot(hidden_layer_1.T, delta_output)\n",
        "    d_bias1 = np.sum(delta_hidden_1, axis=0)\n",
        "    d_bias2 = np.sum(delta_output, axis=0)\n",
        "\n",
        "    return d_weights1, d_weights2, d_bias1, d_bias2"
      ]
    },
    {
      "cell_type": "markdown",
      "metadata": {
        "id": "ZL5yNmmUnTKD"
      },
      "source": [
        "#Q6 - [20 Points]"
      ]
    },
    {
      "cell_type": "markdown",
      "metadata": {
        "id": "JyQc4LaMoDmQ"
      },
      "source": [
        "Now that we have all of the parts in place, we are ready to **implement the main training loop.**\n",
        "\n",
        "In each iteration, we will use the entire batch of training examples,\n",
        "and pass them through our model to obtain a set of predictions.\n",
        "After calculating the loss, we initiate the backwards pass through the network,\n",
        "storing the gradients with respect to each parameter.\n",
        "Finally, we will use the gradient descent optimization algorithm\n",
        "to update the model parameters.\n",
        "\n",
        "In summary, we will execute the following loop:\n",
        "\n",
        "* Split dataset (already completed)\n",
        "* Initialize parameters (weights and biases) (**complete this**)\n",
        "* Repeat until done\n",
        "    * Compute output, hidden_layer1 using forward function (**complete this**)\n",
        "    * Compute Loss using loss function (**complete this**)\n",
        "    * Compute gradient (call gradient descent functon for this and send parameters)\n",
        "    * Update parameters (already completed): This is done by multiplying learning rate with weights received from gradient descent and subtracting them from original values\n",
        "\n",
        "In each *epoch*, we will iterate through the entire dataset once\n",
        "passing through every example in the training dataset. The number of epochs `num_epochs` and the learning rate `lr` are both hyperparameters.\n",
        "\n",
        "\n",
        "\n"
      ]
    },
    {
      "cell_type": "markdown",
      "metadata": {
        "id": "pepWnKZPn0N6"
      },
      "source": [
        "**In this task, you have to implement the linear regression by completing the function `main`**."
      ]
    },
    {
      "cell_type": "code",
      "execution_count": 58,
      "metadata": {
        "id": "4EJX-Wb0oXEe"
      },
      "outputs": [],
      "source": [
        "#TODO: Complete the function main\n",
        "def main(X,y,num_epochs,lr):\n",
        "    \"\"\"\n",
        "    Returns the final model weight and bias. Also, plots a graph of the num_epochs vs mean squared error.\n",
        "    Args:\n",
        "        X [np.array]: Inputs\n",
        "        y [np.array]: Outputs\n",
        "        num_epochs [int]: Number of epochs\n",
        "        lr [floar]: Learning Rate\n",
        "    \"\"\"\n",
        "    # Split the data into train & test dataset. Split should 0.2 and seed should be equal to 0\n",
        "    X_train,X_test,Y_train,Y_test = train_test_split(X,y,0.2,42)\n",
        "    hidden_size=8\n",
        "    output_size=1\n",
        "    # Task: Initialize Weights\n",
        "    # BEGIN SOLUTION\n",
        "\n",
        "\n",
        "\n",
        "#Intialize function here\n",
        "\n",
        "    weights1,bias1,weights2,bias2= initialise_model(X_train.shape[1],hidden_size,output_size)\n",
        "\n",
        "\n",
        "\n",
        "\n",
        "    # END SOLUTION\n",
        "    # Initialise empty L list\n",
        "    L = []\n",
        "    # Main Loop\n",
        "    for epoch in range(num_epochs):\n",
        "        # BEGIN SOLUTION\n",
        "\n",
        "\n",
        "\n",
        "\n",
        "\n",
        "\n",
        "\n",
        "        # Compute the linear output using the training data\n",
        "        #Output Calculation here\n",
        "        hidden_layer_1,output = forward(X_train,weights1,bias1,weights2,bias2)\n",
        "        # Compute the loss on the training output\n",
        "        #Loss Calculation here\n",
        "        loss = mean_squared_error(Y_train,output)\n",
        "\n",
        "\n",
        "\n",
        "\n",
        "\n",
        "\n",
        "\n",
        "        # END SOLUTION\n",
        "        # Store loss value in Python list\n",
        "        print(\"Loss is \",loss,\"at Epoch\",epoch)\n",
        "        L.append(loss)\n",
        "        # Compute grad_w, grad_b\n",
        "        d_weights1,d_weights2,d_bias1,d_bias2 = gradient_descent(X_train, Y_train, output, hidden_layer_1,weights1, weights2, bias1, bias2)\n",
        "        #print(d_weights1,d_weights2,d_weights3,d_weights4,d_bias1,d_bias2,d_bias3,d_bias4)\n",
        "        # Update w,b\n",
        "        weights1 -= lr*d_weights1\n",
        "        bias1 -= lr*d_bias1\n",
        "        weights2 -= lr*d_weights2\n",
        "        bias2 -= lr*d_bias2\n",
        "    # Plot\n",
        "    plt.plot([epoch for epoch in range(num_epochs)],L)\n",
        "    plt.xlabel('Epochs')\n",
        "    plt.ylabel('Mean Squared Loss')\n",
        "    plt.title('Epochs vs Mean Squared Loss')\n",
        "    plt.show()\n",
        "    return weights1,bias1,weights2,bias2"
      ]
    },
    {
      "cell_type": "code",
      "execution_count": 59,
      "metadata": {
        "colab": {
          "base_uri": "https://localhost:8080/",
          "height": 559
        },
        "id": "8ldOHswXuGNc",
        "outputId": "e98e12ec-ca50-4b1b-84d9-5451efe83003"
      },
      "outputs": [
        {
          "output_type": "stream",
          "name": "stdout",
          "text": [
            "Loss is  309.3651134158783 at Epoch 0\n",
            "Loss is  186.51046275286535 at Epoch 1\n",
            "Loss is  157.30137950883383 at Epoch 2\n",
            "Loss is  150.356827231919 at Epoch 3\n"
          ]
        },
        {
          "output_type": "display_data",
          "data": {
            "text/plain": [
              "<Figure size 640x480 with 1 Axes>"
            ],
            "image/png": "[encoded data removed]"
          },
          "metadata": {}
        },
        {
          "output_type": "stream",
          "name": "stdout",
          "text": [
            "Test for main function executed.\n"
          ]
        }
      ],
      "source": [
        "# DO NOT EDIT\n",
        "# TEST CODE FOR CHECKING THE FUNCTION.\n",
        "final_dataset=update_dataset(dataset)\n",
        "# Assuming X and Y are the input and output data respectively\n",
        "# You need to replace X and Y with your actual data from the notebook\n",
        "X = final_dataset[[\"improvement_surcharge\",\"DOLocationID\",\"PULocationID\"]].values\n",
        "Y = dataset['fare_amount'].values.reshape(-1, 1) # Assuming 'total_amount' is your target variable\n",
        "\n",
        "# Apply StandardScaler to the entire dataset\n",
        "from sklearn.preprocessing import StandardScaler\n",
        "scaler = StandardScaler()\n",
        "X_scaled = scaler.fit_transform(X)\n",
        "weights1,bias1,weights2,bias2 = main(X_scaled,Y,4,0.0000001)\n",
        "\n",
        "# Since the main function now returns weights and biases for a one-hidden-layer model,\n",
        "# you would typically add assertions here to check the shapes or types of these returned values\n",
        "# or perform a forward pass with the test data and check the loss.\n",
        "# For now, we will just print a message indicating the test has run.\n",
        "print(\"Test for main function executed.\")"
      ]
    },
    {
      "cell_type": "markdown",
      "source": [
        "If output to your code is correct then this will be the ouput\n",
        "\n",
        "<center>\n",
        "\n",
        "![Google Drive Image](https://drive.google.com/uc?export=view&id=1kwyN5Vc2x2lLxL6328SUkDEg_LKLdw7J)\n",
        "\n",
        "</center>"
      ],
      "metadata": {
        "id": "VVpiaBO52dpA"
      }
    }
  ],
  "metadata": {
    "colab": {
      "provenance": [],
      "toc_visible": true
    },
    "kernelspec": {
      "display_name": "Python 3",
      "name": "python3"
    },
    "language_info": {
      "codemirror_mode": {
        "name": "ipython",
        "version": 3
      },
      "file_extension": ".py",
      "mimetype": "text/x-python",
      "name": "python",
      "nbconvert_exporter": "python",
      "pygments_lexer": "ipython3",
      "version": "3.9.2"
    },
    "otter": {
      "tests": {
        "Task01": {
          "name": "Task01",
          "points": 10,
          "suites": [
            {
              "cases": [],
              "scored": true,
              "setup": "",
              "teardown": "",
              "type": "doctest"
            }
          ]
        },
        "Task02": {
          "name": "Task02",
          "points": 20,
          "suites": [
            {
              "cases": [],
              "scored": true,
              "setup": "",
              "teardown": "",
              "type": "doctest"
            }
          ]
        },
        "Task03": {
          "name": "Task03",
          "points": 10,
          "suites": [
            {
              "cases": [],
              "scored": true,
              "setup": "",
              "teardown": "",
              "type": "doctest"
            }
          ]
        },
        "Task04": {
          "name": "Task04",
          "points": 20,
          "suites": [
            {
              "cases": [],
              "scored": true,
              "setup": "",
              "teardown": "",
              "type": "doctest"
            }
          ]
        },
        "Task05": {
          "name": "Task05",
          "points": 20,
          "suites": [
            {
              "cases": [],
              "scored": true,
              "setup": "",
              "teardown": "",
              "type": "doctest"
            }
          ]
        },
        "Task06": {
          "name": "Task06",
          "points": 20,
          "suites": [
            {
              "cases": [],
              "scored": true,
              "setup": "",
              "teardown": "",
              "type": "doctest"
            }
          ]
        }
      }
    },
    "vscode": {
      "interpreter": {
        "hash": "341ce806ad348c6396969bf6bfc3e3b2899dcbddac3f00a64251096e015967a2"
      }
    }
  },
  "nbformat": 4,
  "nbformat_minor": 0
}