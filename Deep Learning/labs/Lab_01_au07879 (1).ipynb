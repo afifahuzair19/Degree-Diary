{
  "nbformat": 4,
  "nbformat_minor": 0,
  "metadata": {
    "colab": {
      "provenance": []
    },
    "kernelspec": {
      "name": "python3",
      "display_name": "Python 3"
    },
    "language_info": {
      "name": "python"
    }
  },
  "cells": [
    {
      "cell_type": "markdown",
      "source": [
        "# CS 316 : Introduction to Deep Learning - Fall 2024\n",
        "## Lab 01: Numpy Basics\n",
        "### Instructor: Dr. Abdul Samad\n",
        "### RA: Sandesh Kumar"
      ],
      "metadata": {
        "id": "gYQ4T4eeegh6"
      }
    },
    {
      "cell_type": "markdown",
      "source": [
        "# Instructions\n",
        "\n",
        "1. Make a copy of this notebook on google colab at start of the lab.\n",
        "\n",
        "2. Please rename your notebook as *Lab_01_aa01234.ipynb* before starting the lab. Notebooks which do not follow appropriate naming convention will not be graded.\n",
        "\n",
        "3. You have to submit this lab during the lab timings. You are allowed to submit till 11:59 PM on the day of your lab with a 30% penalty. No submissions will be accepted afterwards.\n",
        "\n",
        "4. Use of AI is strictly prohibited. Anyone caught using Any AI tool during lab or while grading will be immediately reported to OCVS without any further discussion.\n",
        "\n",
        "5. At the end of the lab, download the notebook (ipynb extension file) and upload it on canvas as a file. Submitting link to notebook or any other file format will not be accepted.\n",
        "\n",
        "6. Each task has points assigned to it. Total Lab is of 100 points.\n",
        "\n",
        "7. Use of for loops is strictly prohibited.\n",
        "\n",
        "8. If there are any theoretical questions, there will be a separate cell given for it after the question. You have to edit it to write your answer there.\n",
        "\n",
        "9. If you have any questions, please feel free to reach out to the course instructor, RA or TA.\n",
        "\n",
        "10. Comments are also part of question and are there to help you understand and write the code. Read them carefully.\n",
        "\n",
        "11. This lab contains testcases. Do not edit them. Run them to check whether your output is correct.\n",
        "\n",
        "12. Go to settings> AI Assistance> Uncheck all options, save your notebook, refresh the tab and then start your lab."
      ],
      "metadata": {
        "id": "GvJ1Zy2Lv4We"
      }
    },
    {
      "cell_type": "code",
      "source": [
        "#Let's import all important libraries first\n",
        "import numpy as np"
      ],
      "metadata": {
        "id": "wPqYfNPsxWr3"
      },
      "execution_count": 1,
      "outputs": []
    },
    {
      "cell_type": "markdown",
      "source": [
        "# Q1: [6 Points]\n",
        "Write a command to create a tensor of size 28 x 28 x 30 with all zero values in numpy. Name the variable as tensor"
      ],
      "metadata": {
        "id": "LfXv9CuYwZKh"
      }
    },
    {
      "cell_type": "code",
      "source": [
        "# Write your Code here\n",
        "# Start\n",
        "tensor=np.zeros((28, 28, 30))\n",
        "\n",
        "# End\n",
        "print(tensor)"
      ],
      "metadata": {
        "id": "AU2lY1p6ehvf",
        "colab": {
          "base_uri": "https://localhost:8080/"
        },
        "outputId": "ef7fcb23-8fa7-4792-de07-f832343e1438"
      },
      "execution_count": null,
      "outputs": [
        {
          "output_type": "stream",
          "name": "stdout",
          "text": [
            "[[[0. 0. 0. ... 0. 0. 0.]\n",
            "  [0. 0. 0. ... 0. 0. 0.]\n",
            "  [0. 0. 0. ... 0. 0. 0.]\n",
            "  ...\n",
            "  [0. 0. 0. ... 0. 0. 0.]\n",
            "  [0. 0. 0. ... 0. 0. 0.]\n",
            "  [0. 0. 0. ... 0. 0. 0.]]\n",
            "\n",
            " [[0. 0. 0. ... 0. 0. 0.]\n",
            "  [0. 0. 0. ... 0. 0. 0.]\n",
            "  [0. 0. 0. ... 0. 0. 0.]\n",
            "  ...\n",
            "  [0. 0. 0. ... 0. 0. 0.]\n",
            "  [0. 0. 0. ... 0. 0. 0.]\n",
            "  [0. 0. 0. ... 0. 0. 0.]]\n",
            "\n",
            " [[0. 0. 0. ... 0. 0. 0.]\n",
            "  [0. 0. 0. ... 0. 0. 0.]\n",
            "  [0. 0. 0. ... 0. 0. 0.]\n",
            "  ...\n",
            "  [0. 0. 0. ... 0. 0. 0.]\n",
            "  [0. 0. 0. ... 0. 0. 0.]\n",
            "  [0. 0. 0. ... 0. 0. 0.]]\n",
            "\n",
            " ...\n",
            "\n",
            " [[0. 0. 0. ... 0. 0. 0.]\n",
            "  [0. 0. 0. ... 0. 0. 0.]\n",
            "  [0. 0. 0. ... 0. 0. 0.]\n",
            "  ...\n",
            "  [0. 0. 0. ... 0. 0. 0.]\n",
            "  [0. 0. 0. ... 0. 0. 0.]\n",
            "  [0. 0. 0. ... 0. 0. 0.]]\n",
            "\n",
            " [[0. 0. 0. ... 0. 0. 0.]\n",
            "  [0. 0. 0. ... 0. 0. 0.]\n",
            "  [0. 0. 0. ... 0. 0. 0.]\n",
            "  ...\n",
            "  [0. 0. 0. ... 0. 0. 0.]\n",
            "  [0. 0. 0. ... 0. 0. 0.]\n",
            "  [0. 0. 0. ... 0. 0. 0.]]\n",
            "\n",
            " [[0. 0. 0. ... 0. 0. 0.]\n",
            "  [0. 0. 0. ... 0. 0. 0.]\n",
            "  [0. 0. 0. ... 0. 0. 0.]\n",
            "  ...\n",
            "  [0. 0. 0. ... 0. 0. 0.]\n",
            "  [0. 0. 0. ... 0. 0. 0.]\n",
            "  [0. 0. 0. ... 0. 0. 0.]]]\n"
          ]
        }
      ]
    },
    {
      "cell_type": "code",
      "source": [
        "#THIS IS A TEST CASE\n",
        "#DO NOT EDIT THIS CELL\n",
        "\n",
        "assert tensor.shape == (28, 28, 30)\n",
        "assert np.all(tensor == 0)\n",
        "print(\"Test case passed!\")"
      ],
      "metadata": {
        "colab": {
          "base_uri": "https://localhost:8080/"
        },
        "id": "MF2LkjJOxwgO",
        "outputId": "8905de1d-bead-4dc0-a7b1-5315437d8f88"
      },
      "execution_count": null,
      "outputs": [
        {
          "output_type": "stream",
          "name": "stdout",
          "text": [
            "Test case passed!\n"
          ]
        }
      ]
    },
    {
      "cell_type": "markdown",
      "source": [
        "# Q2: [8 Points]\n",
        "Generate the following matrix using numpy. name the variable as matrix.\n",
        "\n",
        "<center>\n",
        "\n",
        "![Google Drive Image](https://drive.google.com/uc?export=view&id=1Gnj_JENn95Rnd-eR4gToa4JtU2JZYGe0)\n",
        "\n",
        "</center>\n"
      ],
      "metadata": {
        "id": "DK3uEanReh-4"
      }
    },
    {
      "cell_type": "code",
      "source": [
        "# Write your Code here\n",
        "# Start\n",
        "matrix= np.diag([1,1,1])\n",
        "matrix[0][1:]=2\n",
        "matrix[1][0]=2\n",
        "matrix[1][2]=2\n",
        "matrix[2][0:2]=2\n",
        "\n",
        "# End\n",
        "print(matrix)"
      ],
      "metadata": {
        "id": "s6a8D_HleiG5",
        "colab": {
          "base_uri": "https://localhost:8080/"
        },
        "outputId": "fa749a5b-02fc-426c-bb92-35fb76f980ab"
      },
      "execution_count": null,
      "outputs": [
        {
          "output_type": "stream",
          "name": "stdout",
          "text": [
            "[[1 2 2]\n",
            " [2 1 2]\n",
            " [2 2 1]]\n"
          ]
        }
      ]
    },
    {
      "cell_type": "code",
      "metadata": {
        "colab": {
          "base_uri": "https://localhost:8080/"
        },
        "id": "6144f64e",
        "outputId": "0de55f3a-0fb7-4b74-cf9a-8f312bb0cd1d"
      },
      "source": [
        "#THIS IS A TEST CASE\n",
        "#DO NOT EDIT THIS CELL\n",
        "expected_matrix = np.array([[1., 2., 2.],\n",
        "                            [2., 1., 2.],\n",
        "                            [2., 2., 1.]])\n",
        "assert matrix.shape == (3, 3)\n",
        "assert np.array_equal(matrix, expected_matrix)\n",
        "\n",
        "print(\"Test case passed!\")"
      ],
      "execution_count": null,
      "outputs": [
        {
          "output_type": "stream",
          "name": "stdout",
          "text": [
            "Test case passed!\n"
          ]
        }
      ]
    },
    {
      "cell_type": "markdown",
      "source": [
        "# Q3: [8 Points]\n",
        "Chocomo is a chocolate-filled biscuit company. You have a feeling they don't use enough chocolate. So, like any normal human, you phone the production manager and ask how much chocolate they put in, and the manager, like any normal human, tells you that the amount of chocolate in our 100 biscuits pack follows a normal distribution with a mean of 50g and a standard deviation of 9g.\n",
        "\n",
        "\n",
        "\n",
        "You decide to simulate the Chocomo plant to determine if you are just unlikely or not. Generate 100 samples of biscuits using numpy, with each element in the array indicating how much chocolate each pack contains. Name the variable as chocolates.\n"
      ],
      "metadata": {
        "id": "ioFj6P9zEjol"
      }
    },
    {
      "cell_type": "code",
      "source": [
        "# Write your Code here\n",
        "# Start\n",
        "chocolates=np.random.normal(50, 9,(100))\n",
        "\n",
        "# End\n",
        "\n",
        "print(chocolates)"
      ],
      "metadata": {
        "colab": {
          "base_uri": "https://localhost:8080/"
        },
        "outputId": "31d6d1d8-0e12-493b-b8a5-186bf1ecc0be",
        "id": "skSmvOWQEjom"
      },
      "execution_count": 2,
      "outputs": [
        {
          "output_type": "stream",
          "name": "stdout",
          "text": [
            "[45.84579785 62.3192558  55.73465581 60.97693759 55.50073978 40.20164997\n",
            " 33.07362598 60.07659274 45.08048293 51.89733279 59.29163032 39.58272692\n",
            " 53.38772524 40.54314634 68.78600481 39.42556477 51.94925556 55.17812109\n",
            " 57.73809711 55.30688576 52.9152854  41.4960102  49.56515419 50.87014945\n",
            " 61.87952902 39.71606663 40.20845303 69.6416193  36.57599008 50.0037844\n",
            " 41.13804092 57.22952246 52.75482579 44.90339935 47.50089859 42.97906643\n",
            " 50.03876777 51.20907645 46.76055981 35.70928993 53.87192542 63.36888363\n",
            " 49.62797762 29.51918573 64.33496726 38.53195195 65.53989395 44.58097682\n",
            " 50.51360644 52.12179366 47.10142855 31.05210252 51.73816973 48.71940819\n",
            " 54.90798195 66.71803679 61.1478128  38.56042119 41.37485058 45.57573623\n",
            " 58.83819843 43.56339299 50.95897206 62.84412128 47.27144129 51.14603052\n",
            " 45.54899433 49.22688408 55.40883991 44.8223712  55.22987254 57.7826775\n",
            " 51.75117583 41.60702138 41.54386089 35.20683674 43.15793729 40.46136181\n",
            " 42.10186651 32.85831381 61.10749025 44.01531514 40.52713516 72.84038138\n",
            " 50.78177193 30.48509998 37.90988963 30.70435719 53.12717561 46.40181119\n",
            " 45.22798751 61.04465642 49.08557177 66.86093301 42.51579678 54.39776454\n",
            " 47.51069673 59.03097958 62.89392614 51.27267144]\n"
          ]
        }
      ]
    },
    {
      "cell_type": "code",
      "metadata": {
        "colab": {
          "base_uri": "https://localhost:8080/"
        },
        "id": "5b7f0086",
        "outputId": "d5460620-4783-4f6f-dfe5-7dd75601c5c7"
      },
      "source": [
        "#THIS IS A TEST CASE\n",
        "#DO NOT EDIT THIS CELL\n",
        "\n",
        "assert chocolates.shape == (100,)\n",
        "assert chocolates.dtype == np.float64 or chocolates.dtype == np.float32\n",
        "\n",
        "print(\"Test case passed!\")"
      ],
      "execution_count": 3,
      "outputs": [
        {
          "output_type": "stream",
          "name": "stdout",
          "text": [
            "Test case passed!\n"
          ]
        }
      ]
    },
    {
      "cell_type": "markdown",
      "source": [
        "# Q4: [8 Points]\n",
        "Fraud at Chocomo Factory:\n",
        "You look at the data you generated and you saw that what you got was vastly less. You inform this to the Chocomo foundation which conducts an audit and finds out that one of the employees, Augustus Gloop, has been eating the chocolate rather than putting it in the biscuits.\n",
        "\n",
        "Each employee is supposed to mention how much chocolate they used in each shift. The data is stored in a 2d numpy array chocolate_used. where each row refers to each employee and a column refers to each shift.\n",
        "\n",
        "You decide to fire Augustus Gloop and set his chocolate_used entries for every shift as 0. Augustus's entry is stored in the last row.\n",
        "\n",
        "Write code using numpy. Consider you have this array and set augusut's entries to 0."
      ],
      "metadata": {
        "id": "WB3I2cQ5GpeM"
      }
    },
    {
      "cell_type": "code",
      "source": [
        "#DO NOT EDIT THIS CODE\n",
        "chocolate_used = np.random.rand(5, 10) * 100\n",
        "original_chocolate_used = np.copy(chocolate_used)"
      ],
      "metadata": {
        "id": "SMuQLbsYJmpm"
      },
      "execution_count": 4,
      "outputs": []
    },
    {
      "cell_type": "code",
      "source": [
        "# Write your Code here\n",
        "# Start\n",
        "chocolate_used[-1,:]=0\n",
        "\n",
        "# End\n",
        "\n",
        "print(chocolate_used)"
      ],
      "metadata": {
        "colab": {
          "base_uri": "https://localhost:8080/"
        },
        "outputId": "2bde8d5f-908e-4580-db28-72cea8d5173a",
        "id": "JEteKxhDGpeO"
      },
      "execution_count": 5,
      "outputs": [
        {
          "output_type": "stream",
          "name": "stdout",
          "text": [
            "[[58.3919131  99.81661786 38.95765917 11.26348817  6.77615871  3.72056295\n",
            "  26.8485457  81.66597587 91.00317154 53.19495112]\n",
            " [88.76918754 42.73527919 56.46113094 73.18648295 11.82131725 88.60267888\n",
            "  73.00731101 31.87250018 21.46061155 48.04222016]\n",
            " [ 5.550814   55.73439108 11.52283676 35.03377972 74.02056469 62.06503034\n",
            "  43.82247013 12.09926531 17.61147418  8.95035428]\n",
            " [49.15962666 55.90096104 83.56517362 67.94768391 88.32872328 75.62411581\n",
            "  27.25483493 81.68480776 93.25967586 47.35743511]\n",
            " [ 0.          0.          0.          0.          0.          0.\n",
            "   0.          0.          0.          0.        ]]\n"
          ]
        }
      ]
    },
    {
      "cell_type": "code",
      "metadata": {
        "colab": {
          "base_uri": "https://localhost:8080/"
        },
        "id": "46f985fa",
        "outputId": "121ff410-c5c2-43fc-fcc8-832370d83f49"
      },
      "source": [
        "#THIS IS A TEST CASE\n",
        "#DO NOT EDIT THIS CELL\n",
        "\n",
        "assert np.all(chocolate_used[-1, :] == 0)\n",
        "assert chocolate_used.shape == original_chocolate_used.shape\n",
        "assert np.array_equal(chocolate_used[:-1, :], original_chocolate_used[:-1, :])\n",
        "\n",
        "print(\"Test case passed!\")"
      ],
      "execution_count": 6,
      "outputs": [
        {
          "output_type": "stream",
          "name": "stdout",
          "text": [
            "Test case passed!\n"
          ]
        }
      ]
    },
    {
      "cell_type": "markdown",
      "source": [
        "# Q5: [8 Points]\n",
        "You've grown dissatisfied with the standard scoring system in Pacman and have decided to create your own version of the game. To further enhance this new game, you've formulated a unique scoring system that will be used to assess the performance of an AI you plan to train.\n",
        "\n",
        "\n",
        "\n",
        "The scoring system is defined by the following formula:\n",
        "\n",
        "\n",
        "S = 10 x max(T - 30 , 0) + 20D + 50B + 100G\n",
        "Where:\n",
        "\n",
        "    S represents the score you achieve.\n",
        "    T is the time in seconds that you have survived, rounded to the first decimal place.\n",
        "    D denotes the number of dots you have consumed.\n",
        "    B stands for the number of berries you have eaten.\n",
        "    G indicates the number of times you have eaten a ghost.\n",
        "\n",
        "For example, if I survive for 40 seconds, eat 30 dots, 2 berries, and 5 ghosts, my score will be equal to:\n",
        "\n",
        "\n",
        "### **Function Description:**\n",
        "\n",
        "Complete the function pacmanScore in the editor below. The function must return the expected score as an integer.\n",
        "\n",
        "pacmanScore has the following parameter(s):\n",
        "\n",
        "    time:  a float64 numpy scalar that tells you the time in seconds that you survived.\n",
        "    dots: an integer numpy scalar indicating the number of dots you ate.\n",
        "    berries: an integer numpy scalar indicating the number of berries you ate.\n",
        "    ghosts: an integer numpy scalar indicating the number of ghosts you ate\n",
        "\n",
        "    "
      ],
      "metadata": {
        "id": "zSz-sAfrJyfV"
      }
    },
    {
      "cell_type": "code",
      "source": [
        "#\n",
        "# Complete the 'pacmanScore' function below.\n",
        "#\n",
        "# The function is expected to return a np scalar int.\n",
        "# The function accepts following parameters:\n",
        "#  1. np scalar float time\n",
        "#  2. np scalar int dots\n",
        "#  3. np scalar int berries\n",
        "#  4. np scalar int ghosts\n",
        "#\n",
        "\n",
        "def pacmanScore(time, dots, berries, ghosts):\n",
        "    # Write your code here. REMEMBER TO RETURN AN INTEGER\n",
        "    # Start\n",
        "    s=(10*max(time-30,0))+( 20*dots)+(50*berries)+(100*ghosts)\n",
        "    return s\n",
        "\n",
        "    # End\n",
        "\n"
      ],
      "metadata": {
        "id": "y1mu2HXwJyfX"
      },
      "execution_count": 9,
      "outputs": []
    },
    {
      "cell_type": "code",
      "metadata": {
        "colab": {
          "base_uri": "https://localhost:8080/"
        },
        "outputId": "15689512-0b7e-4a30-f472-3af9b9eecf62",
        "id": "Pwi3K_3qJyfY"
      },
      "source": [
        "#THIS IS A TEST CASE\n",
        "#DO NOT EDIT THIS CELL\n",
        "\n",
        "# Test case 1\n",
        "time1, dots1, berries1, ghosts1 = 40.5, 30, 2, 5\n",
        "expected_score1 = 10 * max(time1 - 30, 0) + 20 * dots1 + 50 * berries1 + 100 * ghosts1\n",
        "assert pacmanScore(time1, dots1, berries1, ghosts1) == int(expected_score1), f\"Test Case 1 Failed: Input ({time1}, {dots1}, {berries1}, {ghosts1}), Expected: {int(expected_score1)}, Got: {pacmanScore(time1, dots1, berries1, ghosts1)}\"\n",
        "\n",
        "# Test case 2\n",
        "time2, dots2, berries2, ghosts2 = 25.0, 10, 1, 0\n",
        "expected_score2 = 10 * max(time2 - 30, 0) + 20 * dots2 + 50 * berries2 + 100 * ghosts2\n",
        "assert pacmanScore(time2, dots2, berries2, ghosts2) == int(expected_score2), f\"Test Case 2 Failed: Input ({time2}, {dots2}, {berries2}, {ghosts2}), Expected: {int(expected_score2)}, Got: {pacmanScore(time2, dots2, berries2, ghosts2)}\"\n",
        "\n",
        "# Test case 3\n",
        "time3, dots3, berries3, ghosts3 = 60.0, 50, 5, 10\n",
        "expected_score3 = 10 * max(time3 - 30, 0) + 20 * dots3 + 50 * berries3 + 100 * ghosts3\n",
        "assert pacmanScore(time3, dots3, berries3, ghosts3) == int(expected_score3), f\"Test Case 3 Failed: Input ({time3}, {dots3}, {berries3}, {ghosts3}), Expected: {int(expected_score3)}, Got: {pacmanScore(time3, dots3, berries3, ghosts3)}\"\n",
        "\n",
        "# Test case 4\n",
        "time4, dots4, berries4, ghosts4 = 30.0, 0, 0, 0\n",
        "expected_score4 = 10 * max(time4 - 30, 0) + 20 * dots4 + 50 * berries4 + 100 * ghosts4\n",
        "assert pacmanScore(time4, dots4, berries4, ghosts4) == int(expected_score4), f\"Test Case 4 Failed: Input ({time4}, {dots4}, {berries4}, {ghosts4}), Expected: {int(expected_score4)}, Got: {pacmanScore(time4, dots4, berries4, ghosts4)}\"\n",
        "\n",
        "# Test case 5\n",
        "time5, dots5, berries5, ghosts5 = 35.9, 100, 10, 1\n",
        "expected_score5 = 10 * max(time5 - 30, 0) + 20 * dots5 + 50 * berries5 + 100 * ghosts5\n",
        "assert pacmanScore(time5, dots5, berries5, ghosts5) == int(expected_score5), f\"Test Case 5 Failed: Input ({time5}, {dots5}, {berries5}, {ghosts5}), Expected: {int(expected_score5)}, Got: {pacmanScore(time5, dots5, berries5, ghosts5)}\"\n",
        "\n",
        "# Test case 6 (edge case: time slightly less than 30)\n",
        "time6, dots6, berries6, ghosts6 = 29.9, 20, 3, 2\n",
        "expected_score6 = 10 * max(time6 - 30, 0) + 20 * dots6 + 50 * berries6 + 100 * ghosts6\n",
        "assert pacmanScore(time6, dots6, berries6, ghosts6) == int(expected_score6), f\"Test Case 6 Failed: Input ({time6}, {dots6}, {berries6}, {ghost6}), Expected: {int(expected_score6)}, Got: {pacmanScore(time6, dots6, berries6, ghosts6)}\"\n",
        "\n",
        "# Test case 7 (edge case: time slightly more than 30)\n",
        "time7, dots7, berries7, ghosts7 = 30.1, 20, 3, 2\n",
        "expected_score7 = 10 * max(time7 - 30, 0) + 20 * dots7 + 50 * berries7 + 100 * ghosts7\n",
        "assert pacmanScore(time7, dots7, berries7, ghosts7) == int(expected_score7), f\"Test Case 7 Failed: Input ({time7}, {dots7}, {berries7}, {ghost7}), Expected: {int(expected_score7)}, Got: {pacmanScore(time7, dots7, berries7, ghosts7)}\"\n",
        "\n",
        "# Test case 8 (zero for all inputs)\n",
        "time8, dots8, berries8, ghosts8 = 0.0, 0, 0, 0\n",
        "expected_score8 = 10 * max(time8 - 30, 0) + 20 * dots8 + 50 * berries8 + 100 * ghosts8\n",
        "assert pacmanScore(time8, dots8, berries8, ghosts8) == int(expected_score8), f\"Test Case 8 Failed: Input ({time8}, {dots8}, {berries8}, {ghost8}), Expected: {int(expected_score8)}, Got: {pacmanScore(time8, dots8, berries8, ghosts8)}\"\n",
        "\n",
        "# Test case 9 (large values)\n",
        "time9, dots9, berries9, ghosts9 = 100.0, 500, 50, 20\n",
        "expected_score9 = 10 * max(time9 - 30, 0) + 20 * dots9 + 50 * berries9 + 100 * ghosts9\n",
        "assert pacmanScore(time9, dots9, berries9, ghosts9) == int(expected_score9), f\"Test Case 9 Failed: Input ({time9}, {dots9}, {berries9}, {ghost9}), Expected: {int(expected_score9)}, Got: {pacmanScore(time9, dots9, berries9, ghosts9)}\"\n",
        "\n",
        "# Test case 10 (time exactly 30)\n",
        "time10, dots10, berries10, ghosts10 = 30.0, 10, 5, 2\n",
        "expected_score10 = 10 * max(time10 - 30, 0) + 20 * dots10 + 50 * berries10 + 100 * ghosts10\n",
        "assert pacmanScore(time10, dots10, berries10, ghosts10) == int(expected_score10), f\"Test Case 10 Failed: Input ({time10}, {dots10}, {berries10}, {ghost10}), Expected: {int(expected_score10)}, Got: {pacmanScore(time10, dots10, berries10, ghosts10)}\"\n",
        "\n",
        "\n",
        "print(\"All 10 test cases passed!\")"
      ],
      "execution_count": 10,
      "outputs": [
        {
          "output_type": "stream",
          "name": "stdout",
          "text": [
            "All 10 test cases passed!\n"
          ]
        }
      ]
    },
    {
      "cell_type": "markdown",
      "source": [
        "# Q6: [10 Points]\n",
        "After enduring months of stagnation due to the pandemic, you've resolved to reclaim control over your life. This journey involves various aspects such as your body weight, as well as achieving equilibrium between work and personal life. However, embarking on a goal requires a clear understanding of your current position and the direction you intend to move in.\n",
        "\n",
        "To initiate this process, you recognize the significance of assessing your body mass index (BMI). The BMI serves as a pivotal step in gauging your physical health and can be calculated as follows:\n",
        "\n",
        "<center>\n",
        "\n",
        "![Google Drive Image](https://drive.google.com/uc?export=view&id=1u24_SYnaPqVfEYUb95UpdFce5MytbHVQ)\n",
        "\n",
        "</center>\n",
        "\n",
        "For example, if you weigh 80kg and are 1.8 m tall, then your BMI is 24.69.\n",
        "\n",
        "### **Function Description:**\n",
        "\n",
        "Complete the function calculateBMI in the editor below. The function must return your current BMI as a numpy scalar rounded to 2 decimal places.\n",
        "\n",
        "calculateBMI has the following parameter(s):\n",
        "    height:  a numpy scalar with height in cm.\n",
        "    weight: a numpy scalar with weight in kg.\n",
        "\n",
        "    "
      ],
      "metadata": {
        "id": "Z9i97ntv4x6t"
      }
    },
    {
      "cell_type": "code",
      "source": [
        "#\n",
        "# Complete the 'calculateBMI' function below.\n",
        "#\n",
        "# The function is expected to return an np scalar float.\n",
        "# The function accepts following parameters:\n",
        "#  1. np scalar float height\n",
        "#  2. np scalar float weight\n",
        "#\n",
        "\n",
        "def calculateBMI(height, weight):\n",
        "    # Write your code here\n",
        "    # Start\n",
        "    BMI=weight/(height/100)**2\n",
        "    return round(BMI,2)\n",
        "\n",
        "\n",
        "    # End"
      ],
      "metadata": {
        "id": "M7Ec73H14x6y"
      },
      "execution_count": 27,
      "outputs": []
    },
    {
      "cell_type": "code",
      "metadata": {
        "colab": {
          "base_uri": "https://localhost:8080/"
        },
        "id": "d215031e",
        "outputId": "b1516d81-4988-4d47-f143-99f0ce8d3ee0"
      },
      "source": [
        "#THIS IS A TEST CASE\n",
        "#DO NOT EDIT THIS CELL\n",
        "\n",
        "# Test Case 1: Example from description (80kg, 1.8m -> height=180cm)\n",
        "height1, weight1 = 180.0, 80.0\n",
        "expected_bmi1 = 80.0 / (180.0/100)**2\n",
        "assert np.isclose(calculateBMI(height1, weight1), np.round(expected_bmi1, 2)), f\"Test Case 1 Failed: Input ({height1}, {weight1}), Expected: {np.round(expected_bmi1, 2)}, Got: {calculateBMI(height1, weight1)}\"\n",
        "\n",
        "# Test Case 2: Underweight BMI\n",
        "height2, weight2 = 170.0, 50.0\n",
        "expected_bmi2 = 50.0 / (170.0/100)**2\n",
        "assert np.isclose(calculateBMI(height2, weight2), np.round(expected_bmi2, 2)), f\"Test Case 2 Failed: Input ({height2}, {weight2}), Expected: {np.round(expected_bmi2, 2)}, Got: {calculateBMI(height2, weight2)}\"\n",
        "\n",
        "# Test Case 3: Overweight BMI\n",
        "height3, weight3 = 165.0, 75.0\n",
        "expected_bmi3 = 75.0 / (165.0/100)**2\n",
        "assert np.isclose(calculateBMI(height3, weight3), np.round(expected_bmi3, 2)), f\"Test Case 3 Failed: Input ({height3}, {weight3}), Expected: {np.round(expected_bmi3, 2)}, Got: {calculateBMI(height3, weight3)}\"\n",
        "\n",
        "# Test Case 4: Very short and light\n",
        "height4, weight4 = 150.0, 45.0\n",
        "expected_bmi4 = 45.0 / (150.0/100)**2\n",
        "assert np.isclose(calculateBMI(height4, weight4), np.round(expected_bmi4, 2)), f\"Test Case 4 Failed: Input ({height4}, {weight4}), Expected: {np.round(expected_bmi4, 2)}, Got: {calculateBMI(height4, weight4)}\"\n",
        "\n",
        "# Test Case 5: Very tall and heavy\n",
        "height5, weight5 = 200.0, 120.0\n",
        "expected_bmi5 = 120.0 / (200.0/100)**2\n",
        "assert np.isclose(calculateBMI(height5, weight5), np.round(expected_bmi5, 2)), f\"Test Case 5 Failed: Input ({height5}, {weight5}), Expected: {np.round(expected_bmi5, 2)}, Got: {calculateBMI(height5, weight5)}\"\n",
        "\n",
        "print(\"All 5 test cases passed!\")"
      ],
      "execution_count": 28,
      "outputs": [
        {
          "output_type": "stream",
          "name": "stdout",
          "text": [
            "All 5 test cases passed!\n"
          ]
        }
      ]
    },
    {
      "cell_type": "markdown",
      "source": [
        "# Q7: [12 Points]\n",
        "\n",
        "Now that you've successfully transformed your life, you've embraced the role of an Orientation Leader. As an OL, you're responsible for engaging individuals in activities that promote their understanding of personal health. Dissatisfied with how Health and Wellness procedures currently rely on Excel for health data analysis, you've taken it upon yourself to introduce a more efficient approach using the power of NumPy.\n",
        "\n",
        "You're commencing this initiative by focusing on the calculation of Body Mass Index (BMI), much like you did for yourself. However, this time, your goal is to compute BMI values for multiple individuals, enhancing their health awareness. To accomplish this, you're tasked with developing a function that can calculate BMI for a group of people based on their respective weights and heights.\n",
        "\n",
        "You can compute BMI using the following formula:\n",
        "\n",
        "<center>\n",
        "\n",
        "![Google Drive Image](https://drive.google.com/uc?export=view&id=1u24_SYnaPqVfEYUb95UpdFce5MytbHVQ)\n",
        "\n",
        "</center>\n",
        "\n",
        "As an example, consider three individuals among the O-kids group: Saqib with a weight of 80 kg and height of 180 cm (resulting in a BMI of 24.69 kg), Fatima weighing 50 kg and standing at 150 cm (leading to a BMI of 22.22 kg), and Bilal weighing 70 kg with a height of 169 cm (resulting in a BMI of 24.51 kg).\n",
        "\n",
        "### **Function Description**\n",
        "\n",
        "Complete the function calculateBMI in the editor below. The function must return BMIs rounded to 2 decimal places.\n",
        "\n",
        "calculateBMI has the following parameter(s):\n",
        "    heights:  a numpy vector with height in cm.\n",
        "    weights: a numpy vector with weight in kg."
      ],
      "metadata": {
        "id": "R_7ezzqR6NlM"
      }
    },
    {
      "cell_type": "code",
      "source": [
        "#\n",
        "# Complete the 'calculateBMI' function below.\n",
        "#\n",
        "# The function is expected to return an np array of floats.\n",
        "# The function accepts following parameters:\n",
        "#  1. np vector float heights\n",
        "#  2. np vector float weights\n",
        "#\n",
        "\n",
        "def calculateBMI(heights, weights):\n",
        "    # Write your code here\n",
        "    # Start\n",
        "  BMIs=weights/((heights/100)**2)\n",
        "  return np.round(BMIs, 2)\n",
        "\n",
        "    # End"
      ],
      "metadata": {
        "id": "Ur_IpFe56NlO"
      },
      "execution_count": 40,
      "outputs": []
    },
    {
      "cell_type": "code",
      "metadata": {
        "colab": {
          "base_uri": "https://localhost:8080/"
        },
        "id": "4f8fee6a",
        "outputId": "ab8dc95f-ba4b-4466-e0ed-95c90ab8a61b"
      },
      "source": [
        "#THIS IS A TEST CASE\n",
        "#DO NOT EDIT THIS CELL\n",
        "\n",
        "# Test Case 1: Example from description\n",
        "heights1 = np.array([180.0, 150.0, 169.0])\n",
        "weights1 = np.array([80.0, 50.0, 70.0])\n",
        "expected_bmis1 = np.array([24.69, 22.22, 24.51]) # Rounded values from description\n",
        "calculated_bmis1 = calculateBMI(heights1, weights1)\n",
        "assert np.allclose(calculated_bmis1, expected_bmis1, atol=0.01), f\"Test Case 1 Failed: Input Heights: {heights1}, Weights: {weights1}, Expected: {expected_bmis1}, Got: {calculated_bmis1}\"\n",
        "\n",
        "# Test Case 2: Different set of heights and weights\n",
        "heights2 = np.array([175.0, 160.0, 190.0, 155.0])\n",
        "weights2 = np.array([70.0, 55.0, 90.0, 48.0])\n",
        "expected_bmis2 = np.round(weights2 / (heights2/100)**2, 2)\n",
        "calculated_bmis2 = calculateBMI(heights2, weights2)\n",
        "assert np.allclose(calculated_bmis2, expected_bmis2, atol=0.01), f\"Test Case 2 Failed: Input Heights: {heights2}, Weights: {weights2}, Expected: {expected_bmis2}, Got: {calculated_bmis2}\"\n",
        "\n",
        "# Test Case 3: Heights and weights with decimals\n",
        "heights3 = np.array([172.5, 168.0, 185.2])\n",
        "weights3 = np.array([65.3, 72.1, 88.9])\n",
        "expected_bmis3 = np.round(weights3 / (heights3/100)**2, 2)\n",
        "calculated_bmis3 = calculateBMI(heights3, weights3)\n",
        "assert np.allclose(calculated_bmis3, expected_bmis3, atol=0.01), f\"Test Case 3 Failed: Input Heights: {heights3}, Weights: {weights3}, Expected: {expected_bmis3}, Got: {calculated_bmis3}\"\n",
        "\n",
        "# Test Case 4: Single individual (should still work with vectors)\n",
        "heights4 = np.array([170.0])\n",
        "weights4 = np.array([60.0])\n",
        "expected_bmis4 = np.round(weights4 / (heights4/100)**2, 2)\n",
        "calculated_bmis4 = calculateBMI(heights4, weights4)\n",
        "assert np.allclose(calculated_bmis4, expected_bmis4, atol=0.01), f\"Test Case 4 Failed: Input Heights: {heights4}, Weights: {weights4}, Expected: {expected_bmis4}, Got: {calculated_bmis4}\"\n",
        "\n",
        "# Test Case 5: Multiple individuals with same height and weight\n",
        "heights5 = np.array([180.0, 180.0, 180.0])\n",
        "weights5 = np.array([75.0, 75.0, 75.0])\n",
        "expected_bmis5 = np.round(weights5 / (heights5/100)**2, 2)\n",
        "calculated_bmis5 = calculateBMI(heights5, weights5)\n",
        "assert np.allclose(calculated_bmis5, expected_bmis5, atol=0.01), f\"Test Case 5 Failed: Input Heights: {heights5}, Weights: {weights5}, Expected: {expected_bmis5}, Got: {calculated_bmis5}\"\n",
        "\n",
        "print(\"All 5 test cases passed!\")"
      ],
      "execution_count": 41,
      "outputs": [
        {
          "output_type": "stream",
          "name": "stdout",
          "text": [
            "All 5 test cases passed!\n"
          ]
        }
      ]
    },
    {
      "cell_type": "markdown",
      "source": [
        "#Q8: [14 Points]\n",
        "The contents of this question are fictional and satirical.\n",
        "\n",
        "You work at Yautube, a video-sharing network. Since times are bad, you decide to sell out to politicians and billionaires and promote videos that promote their agenda. Several prominent politicians opt to hire you. Your recommendation algorithm provides a score for each video for each user. To promote a video, simply boost the score for that video for each user. You also provide the service of changing the landscape of the entire platform for billionaires by changing the score for each video.\n",
        "\n",
        "\n",
        "E.g. If you have 2 users and 3 videos, the landscape of your platform is\n",
        "\n",
        "\n",
        "<center>\n",
        "\n",
        "![Google Drive Image](https://drive.google.com/uc?export=view&id=1fsu82DyYa8fvaf82-GIfXnrbEvphgYHP)\n",
        "\n",
        "</center>\n",
        "\n",
        "where each row represents a user and each column represents a video.\n",
        "\n",
        "\n",
        "\n",
        "If a politician asks you to promote the first video by 10 points, the resulting landscape will be\n",
        "\n",
        "<center>\n",
        "\n",
        "![Google Drive Image](https://drive.google.com/uc?export=view&id=10qbS1R5O-fpU3rc52E0TAPeEffrjgJ7t)\n",
        "\n",
        "</center>\n",
        "\n",
        "\n",
        "If a billionaire wants to reduce the score of video 1 by 10, keep it constant for 2, and increase video 3 by 20. His order is\n",
        "<center>\n",
        "\n",
        "![Google Drive Image](https://drive.google.com/uc?export=view&id=1yWzASw4hUHVJe8b6-UyfMr2VJ1L7UdVn)\n",
        "\n",
        "</center>\n",
        "\n",
        "\n",
        "And hence the resulting landscape will be\n",
        "\n",
        "\n",
        "<center>\n",
        "\n",
        "![Google Drive Image](https://drive.google.com/uc?export=view&id=1JzLsSfLCYG3MaQuW24VjkAU__8a8zuMT)\n",
        "\n",
        "</center>\n",
        "Your goal is to implement 2 functions using broadcasting that allow for these changes.\n",
        "\n",
        "\n",
        "### **Function Descriptions**\n",
        "\n",
        "\n",
        "Complete the function billionaire_influence in the editor below. The function must return the resulting landscape of your platform.\n",
        "\n",
        "billionaire_influence has the following parameter(s):\n",
        "\n",
        "    current_landscape: A 2d numpy array of the current landscape\n",
        "\n",
        "    demands: A 1d array, signifying how much to change the score of each video by.\n",
        "\n",
        "\n",
        "\n",
        "Complete the function politician_influence in the editor below. The function must return the resulting landscape of your platform.\n",
        "\n",
        "politician_influence has the following parameter(s):\n",
        "\n",
        "    current_landscape: A 2d numpy array of the current landscape\n",
        "\n",
        "    index: Index of the video they want to promote\n",
        "\n",
        "    update_amount: Amount to update the score by"
      ],
      "metadata": {
        "id": "2Z8OCdwi8oIz"
      }
    },
    {
      "cell_type": "code",
      "source": [
        "def billionaire_influence(current_landscape, demands):\n",
        "    # Hint: Column Broadcast\n",
        "    # Write your code here\n",
        "    # Start\n",
        "  resulting_landscape = current_landscape+demands\n",
        "  return resulting_landscape\n",
        "    # End\n",
        "\n",
        "def politician_influence(current_landscape, index, update_amount):\n",
        "    # Hint : Column Broadcast\n",
        "    # write your code here\n",
        "    # Start\n",
        "  current_landscape[:,index]+=update_amount\n",
        "  return current_landscape\n",
        "\n",
        "    # End"
      ],
      "metadata": {
        "id": "GvhmiIg7-YwS"
      },
      "execution_count": 42,
      "outputs": []
    },
    {
      "cell_type": "code",
      "metadata": {
        "colab": {
          "base_uri": "https://localhost:8080/"
        },
        "id": "a7fd132c",
        "outputId": "bf5f349b-c40d-462e-b724-2920fd492ca4"
      },
      "source": [
        "#THIS IS A TEST CASE\n",
        "#DO NOT EDIT THIS CELL\n",
        "\n",
        "# Test Case 1: Billionaire influence - positive demands\n",
        "current_landscape1 = np.array([[10, 20, 30], [40, 50, 60]])\n",
        "demands1 = np.array([5, -10, 15])\n",
        "expected_landscape1 = np.array([[15, 10, 45], [45, 40, 75]])\n",
        "assert np.array_equal(billionaire_influence(current_landscape1.copy(), demands1), expected_landscape1), f\"Test Case 1 Failed for billionaire_influence\"\n",
        "\n",
        "# Test Case 2: Billionaire influence - zero demands\n",
        "current_landscape2 = np.array([[1, 2], [3, 4], [5, 6]])\n",
        "demands2 = np.array([0, 0])\n",
        "expected_landscape2 = np.array([[1, 2], [3, 4], [5, 6]])\n",
        "assert np.array_equal(billionaire_influence(current_landscape2.copy(), demands2), expected_landscape2), f\"Test Case 2 Failed for billionaire_influence\"\n",
        "\n",
        "# Test Case 3: Politician influence - update first video\n",
        "current_landscape3 = np.array([[10, 20, 30], [40, 50, 60]])\n",
        "index3 = 0\n",
        "update_amount3 = 10\n",
        "expected_landscape3 = np.array([[20, 20, 30], [50, 50, 60]])\n",
        "assert np.array_equal(politician_influence(current_landscape3.copy(), index3, update_amount3), expected_landscape3), f\"Test Case 3 Failed for politician_influence\"\n",
        "\n",
        "# Test Case 4: Politician influence - update last video with negative amount\n",
        "current_landscape4 = np.array([[1, 2], [3, 4], [5, 6]])\n",
        "index4 = 1\n",
        "update_amount4 = -5\n",
        "expected_landscape4 = np.array([[1, -3], [3, -1], [5, 1]])\n",
        "assert np.array_equal(politician_influence(current_landscape4.copy(), index4, update_amount4), expected_landscape4), f\"Test Case 4 Failed for politician_influence\"\n",
        "\n",
        "# Test Case 5: Combined influence (implicitly tested by checking each function separately)\n",
        "# This test case explicitly combines operations to show the cumulative effect.\n",
        "# Start with a landscape\n",
        "landscape5 = np.array([[100, 200], [300, 400]])\n",
        "# Apply billionaire influence\n",
        "demands5 = np.array([-50, 100])\n",
        "landscape5 = billionaire_influence(landscape5, demands5)\n",
        "# Apply politician influence\n",
        "index5 = 0\n",
        "update_amount5 = 75\n",
        "landscape5 = politician_influence(landscape5, index5, update_amount5)\n",
        "# Calculate expected landscape after both operations\n",
        "expected_landscape5_after_billionaire = np.array([[50, 300], [250, 500]])\n",
        "expected_landscape5_after_politician = np.array([[125, 300], [325, 500]])\n",
        "\n",
        "assert np.array_equal(landscape5, expected_landscape5_after_politician), f\"Test Case 5 Failed for combined influence\"\n",
        "print(\"All 5 test cases passed!\")"
      ],
      "execution_count": 44,
      "outputs": [
        {
          "output_type": "stream",
          "name": "stdout",
          "text": [
            "All 5 test cases passed!\n"
          ]
        }
      ]
    },
    {
      "cell_type": "markdown",
      "source": [
        "#Q9: [12 Points]\n",
        "Matrix Multiplication is extremely powerful. One toy example of matrix multiplication is that you can generate a multiplication table with just 2 matrices. For example, if we want to generate a multiplication table containing the first four multiples of the number of the first three natural numbers , we can multiply  with . The resulting output will be equal to the following:\n",
        "\n",
        "<center>\n",
        "\n",
        "![Google Drive Image](https://drive.google.com/uc?export=view&id=1m5OAMtuuzEBApwG3mXW5db9wCg-xKhwg)\n",
        "\n",
        "</center>\n",
        "\n",
        "The first row contains 1x1, 1x2, 1x3, and 1x4 and the rest of the rows follow a similar pattern\n",
        "\n",
        "### **Function Description**\n",
        "\n",
        "Complete the function getMultiplicationTable in the editor below. The function must return a matrix containing the multiplication table.\n",
        "\n",
        "getMultiplicationTable has the following parameter(s):\n",
        "    multiply_with_left:  a numpy vector.\n",
        "    multiply_with_right: a numpy vector."
      ],
      "metadata": {
        "id": "aBagn7XuAx_h"
      }
    },
    {
      "cell_type": "code",
      "source": [
        "#\n",
        "# Complete the 'getMultiplicationTable' function below.\n",
        "# The function must return a matrix containing the multiplication table.\n",
        "# The function accepts following parameters:\n",
        "#  1. np vector float multiply_with_left\n",
        "#  2. np vector float multiply_with_right\n",
        "#\n",
        "\n",
        "def getMultiplicationTable(multiply_with_left, multiply_with_right):\n",
        "    # Write your code here\n",
        "    # Start\n",
        "  multiply_with_left=multiply_with_left.reshape(multiply_with_left.size,1)\n",
        "  multiplicationtable=multiply_with_left*multiply_with_right\n",
        "  return multiplicationtable\n",
        "\n",
        "    # End"
      ],
      "metadata": {
        "id": "TYcDxrPWAx_o"
      },
      "execution_count": 51,
      "outputs": []
    },
    {
      "cell_type": "code",
      "metadata": {
        "colab": {
          "base_uri": "https://localhost:8080/"
        },
        "id": "4a0369cf",
        "outputId": "38a1d54c-0cdd-4aa5-daf8-3a0bd82b83f5"
      },
      "source": [
        "#THIS IS A TEST CASE\n",
        "#DO NOT EDIT THIS CELL\n",
        "\n",
        "# Test Case 1: Example from description\n",
        "multiply_with_left1 = np.array([1, 2, 3])\n",
        "multiply_with_right1 = np.array([1, 2, 3, 4])\n",
        "expected_table1 = np.array([[1, 2, 3, 4],\n",
        "                           [2, 4, 6, 8],\n",
        "                           [3, 6, 9, 12]])\n",
        "assert np.array_equal(getMultiplicationTable(multiply_with_left1, multiply_with_right1), expected_table1), f\"Test Case 1 Failed\"\n",
        "\n",
        "# Test Case 2: Different vectors\n",
        "multiply_with_left2 = np.array([5, 10])\n",
        "multiply_with_right2 = np.array([1, 2, 3])\n",
        "expected_table2 = np.array([[5, 10, 15],\n",
        "                           [10, 20, 30]])\n",
        "assert np.array_equal(getMultiplicationTable(multiply_with_left2, multiply_with_right2), expected_table2), f\"Test Case 2 Failed\"\n",
        "\n",
        "# Test Case 3: Vectors with decimals\n",
        "multiply_with_left3 = np.array([1.5, 2.0])\n",
        "multiply_with_right3 = np.array([2, 3, 4])\n",
        "expected_table3 = np.array([[3.0, 4.5, 6.0],\n",
        "                           [4.0, 6.0, 8.0]])\n",
        "assert np.allclose(getMultiplicationTable(multiply_with_left3, multiply_with_right3), expected_table3), f\"Test Case 3 Failed\"\n",
        "\n",
        "# Test Case 4: Single element vectors\n",
        "multiply_with_left4 = np.array([7])\n",
        "multiply_with_right4 = np.array([5])\n",
        "expected_table4 = np.array([[35]])\n",
        "assert np.array_equal(getMultiplicationTable(multiply_with_left4, multiply_with_right4), expected_table4), f\"Test Case 4 Failed\"\n",
        "\n",
        "# Test Case 5: Vector with zero\n",
        "multiply_with_left5 = np.array([0, 1, 2])\n",
        "multiply_with_right5 = np.array([10, 20])\n",
        "expected_table5 = np.array([[0, 0],\n",
        "                           [10, 20],\n",
        "                           [20, 40]])\n",
        "assert np.array_equal(getMultiplicationTable(multiply_with_left5, multiply_with_right5), expected_table5), f\"Test Case 5 Failed\"\n",
        "\n",
        "print(\"All 5 test cases passed!\")"
      ],
      "execution_count": 52,
      "outputs": [
        {
          "output_type": "stream",
          "name": "stdout",
          "text": [
            "All 5 test cases passed!\n"
          ]
        }
      ]
    },
    {
      "cell_type": "markdown",
      "source": [
        "#Q10: [14 Points]\n",
        "Later on, in this course,  you will be introduced to the Softmax function which converts numbers into probabilities. The following is the softmax function:\n",
        "\n",
        "<center>\n",
        "\n",
        "![Google Drive Image](https://drive.google.com/uc?export=view&id=1UaKdPedtAmcZbLbOsSMHR145JLcjsthq)\n",
        "\n",
        "</center>\n",
        "\n",
        "However, the Softmax function can suffer from overflow. This is because (e^32) is greater than 2^32 which is the capacity of an uint32 number.  We can preprocess the input array to prevent overflow from exponentiation and simplify exponentiation.\n",
        "\n",
        "\n",
        "The preprocessing steps involve subtracting the maximum of each row of y from each element in y.  This will result in the biggest pre-exponentiated value being 0 and avoiding numerical instability.\n",
        "This preprocessing step will not affect our result as shown below.\n",
        "\n",
        "<center>\n",
        "\n",
        "![Google Drive Image](https://drive.google.com/uc?export=view&id=1TnSrfxMjJw2tcu88mbWqmns2D6kCIkgc)\n",
        "\n",
        "</center>\n",
        "\n",
        "\n",
        "Your objective in this lab is to preprocess the array rather than implement the softmax function.\n",
        "\n",
        "Assume you are given a two-dimensional array A which is equal to\n",
        "<center>\n",
        "\n",
        "![Google Drive Image](https://drive.google.com/uc?export=view&id=1Q4H-yuCzlQU9_fGox6xW3uyiwA6rkbKC)\n",
        "\n",
        "</center>\n",
        "\n",
        "\n",
        "After the preprocessing step, the resulting array will be equal to\n",
        "\n",
        "<center>\n",
        "\n",
        "![Google Drive Image](https://drive.google.com/uc?export=view&id=19mnBGcKZiHOJ318YGwyRe_PtULQ10gkY)\n",
        "\n",
        "</center>\n",
        "\n",
        "\n",
        "In the first row, the maximum value is 5 so after subtracting 5 from each element in the first row you get [-4 -3 0]. Similarly,in the second row, the maximum value is 30 so after subtracting 30 from each element in the second row you get  [-20 -10 0].\n",
        "\n",
        "\n",
        "### **Function Description:**\n",
        "\n",
        "In the editor below, complete the function softmax_preprocess. The function must perform the transformation and return the array z.\n",
        "\n",
        "softmax_preprocess has the following parameter(s):\n",
        "\n",
        "y:  a 2d numpy array"
      ],
      "metadata": {
        "id": "_PhKj-JNYkaN"
      }
    },
    {
      "cell_type": "code",
      "source": [
        "#\n",
        "# Complete the 'softmax_preprocess' function below.\n",
        "#\n",
        "# The function is expected to return a 2D numpy array.\n",
        "# The function accepts 2D numpy array y as parameter.\n",
        "#\n",
        "\n",
        "def softmax_preprocess(y):\n",
        "    # Write your code here\n",
        "    # Start\n",
        "  ymaxes= np.max(y, axis=1,keepdims=True)\n",
        "  z=y-ymaxes\n",
        "  return z\n",
        "\n",
        "    # End"
      ],
      "metadata": {
        "id": "hPkkaEMwYkaP"
      },
      "execution_count": 77,
      "outputs": []
    },
    {
      "cell_type": "code",
      "metadata": {
        "colab": {
          "base_uri": "https://localhost:8080/"
        },
        "id": "bf4638a3",
        "outputId": "fe9af671-27f1-4839-d18c-4657aebf6f3a"
      },
      "source": [
        "#THIS IS A TEST CASE\n",
        "#DO NOT EDIT THIS CELL\n",
        "\n",
        "# Test case 1: Example from description\n",
        "y1 = np.array([[1, 2, 5], [10, 20, 30]])\n",
        "expected_z1 = np.array([[-4, -3, 0], [-20, -10, 0]])\n",
        "calculated_z1 = softmax_preprocess(y1.copy()) # Use copy to avoid modifying original array in place if the function was written differently\n",
        "assert np.array_equal(calculated_z1, expected_z1), f\"Test Case 1 Failed: Input:\\n{y1}\\nExpected:\\n{expected_z1}\\nGot:\\n{calculated_z1}\"\n",
        "\n",
        "# Test case 2: Single row\n",
        "y2 = np.array([[10, 5, 15]])\n",
        "expected_z2 = np.array([[-5, -10, 0]])\n",
        "calculated_z2 = softmax_preprocess(y2.copy())\n",
        "assert np.array_equal(calculated_z2, expected_z2), f\"Test Case 2 Failed: Input:\\n{y2}\\nExpected:\\n{expected_z2}\\nGot:\\n{calculated_z2}\"\n",
        "\n",
        "# Test case 3: Single column\n",
        "y3 = np.array([[5], [10], [2]])\n",
        "expected_z3 = np.array([[0], [0], [0]])\n",
        "calculated_z3 = softmax_preprocess(y3.copy())\n",
        "assert np.array_equal(calculated_z3, expected_z3), f\"Test Case 3 Failed: Input:\\n{y3}\\nExpected:\\n{expected_z3}\\nGot:\\n{calculated_z3}\"\n",
        "\n",
        "# Test case 4: All elements are the same in a row\n",
        "y4 = np.array([[7, 7, 7], [2, 2, 2]])\n",
        "expected_z4 = np.array([[0, 0, 0], [0, 0, 0]])\n",
        "calculated_z4 = softmax_preprocess(y4.copy())\n",
        "assert np.array_equal(calculated_z4, expected_z4), f\"Test Case 4 Failed: Input:\\n{y4}\\nExpected:\\n{expected_z4}\\nGot:\\n{calculated_z4}\"\n",
        "\n",
        "# Test case 5: Negative numbers\n",
        "y5 = np.array([[-1, -5, -2], [-10, -3, -7]])\n",
        "expected_z5 = np.array([[0, -4, -1], [-7, 0, -4]]) # Max of first row is -1, max of second row is -3\n",
        "calculated_z5 = softmax_preprocess(y5.copy())\n",
        "assert np.array_equal(calculated_z5, expected_z5), f\"Test Case 5 Failed: Input:\\n{y5}\\nExpected:\\n{expected_z5}\\nGot:\\n{calculated_z5}\"\n",
        "\n",
        "print(\"All 5 test cases passed!\")"
      ],
      "execution_count": 78,
      "outputs": [
        {
          "output_type": "stream",
          "name": "stdout",
          "text": [
            "All 5 test cases passed!\n"
          ]
        }
      ]
    },
    {
      "cell_type": "code",
      "source": [],
      "metadata": {
        "id": "iI-2azCg474e"
      },
      "execution_count": null,
      "outputs": []
    }
  ]
}